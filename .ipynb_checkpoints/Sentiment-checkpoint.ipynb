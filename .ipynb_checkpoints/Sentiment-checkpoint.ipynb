{
 "cells": [
  {
   "cell_type": "code",
   "execution_count": 2,
   "metadata": {},
   "outputs": [],
   "source": [
    "import pandas as pd\n",
    "import matplotlib.pyplot as plt\n",
    "import nltk\n",
    "from nltk.stem import WordNetLemmatizer\n",
    "from nltk.tokenize import RegexpTokenizer\n",
    "from sklearn.feature_extraction.text import CountVectorizer, TfidfVectorizer\n",
    "from vaderSentiment.vaderSentiment import SentimentIntensityAnalyzer\n",
    "%matplotlib inline"
   ]
  },
  {
   "cell_type": "code",
   "execution_count": null,
   "metadata": {},
   "outputs": [],
   "source": [
    "# import total text\n",
    "df = pd.read_csv(r'./shakes_text.csv')"
   ]
  },
  {
   "cell_type": "code",
   "execution_count": null,
   "metadata": {},
   "outputs": [],
   "source": [
    "df_new = df[df['PlayerLine'].notnull()]\n",
    "df_new.fillna(0)\n",
    "df_new.head()"
   ]
  },
  {
   "cell_type": "code",
   "execution_count": null,
   "metadata": {},
   "outputs": [],
   "source": [
    "# import total history plays text\n",
    "df1 = pd.read_csv(r'./hist_text.csv')"
   ]
  },
  {
   "cell_type": "code",
   "execution_count": null,
   "metadata": {},
   "outputs": [],
   "source": [
    "# import total comedy plays text\n",
    "df2 = pd.read_csv(r'./comedy_text.csv')"
   ]
  },
  {
   "cell_type": "code",
   "execution_count": null,
   "metadata": {},
   "outputs": [],
   "source": [
    "# import total tragedy plays text\n",
    "df3 = pd.read_csv(r'./tragedy_text.csv')"
   ]
  },
  {
   "cell_type": "markdown",
   "metadata": {},
   "source": [
    "**Sentiment Analysis: Complete Theatrical Text**"
   ]
  },
  {
   "cell_type": "code",
   "execution_count": null,
   "metadata": {},
   "outputs": [],
   "source": [
    "df_new.columns"
   ]
  },
  {
   "cell_type": "code",
   "execution_count": null,
   "metadata": {},
   "outputs": [],
   "source": [
    "df_new.dtypes"
   ]
  },
  {
   "cell_type": "code",
   "execution_count": null,
   "metadata": {},
   "outputs": [],
   "source": [
    "# Lowercase all text in 'PlayerLine' series (includes direction & dialogue)\n",
    "df_new['PlayerLine'].apply(lambda x: \" \".join(x.lower() for x in x.split()))\n",
    "df_new['PlayerLine'].head()\n",
    "\n",
    "# Non-alphanumeric data removing: number, symbol, emoji, HTML tag…\n",
    "df_new['PlayerLine'].str.replace(r\"\\d+\", \"\")\n",
    "df_new['PlayerLine'].str.replace('[^\\w\\s]','')\n",
    "df_new['PlayerLine'].str.replace(r\"[︰-＠]\", \"\")\n",
    "df_new['PlayerLine'].head()\n",
    "\n",
    "# Punctuation removal (https://stackoverflow.com/questions/39782418/remove-punctuations-in-pandas)\n",
    "df = df_new['PlayerLine'].str.replace('[^\\w\\s]','')\n",
    "df.head()\n"
   ]
  },
  {
   "cell_type": "code",
   "execution_count": null,
   "metadata": {},
   "outputs": [],
   "source": [
    "df.shape, df.dtypes"
   ]
  },
  {
   "cell_type": "code",
   "execution_count": null,
   "metadata": {},
   "outputs": [],
   "source": [
    "df.to_frame()\n",
    "df.dtypes"
   ]
  },
  {
   "cell_type": "markdown",
   "metadata": {},
   "source": [
    "**Sentiment Analysis: Macbeth**"
   ]
  },
  {
   "cell_type": "code",
   "execution_count": null,
   "metadata": {},
   "outputs": [],
   "source": [
    "macbeth = df_new.loc[df_new['Play'].isin(['macbeth'])]\n",
    "macbeth = macbeth.to_string()"
   ]
  },
  {
   "cell_type": "code",
   "execution_count": null,
   "metadata": {},
   "outputs": [],
   "source": [
    "# function to print sentiments (https://www.geeksforgeeks.org/python-sentiment-analysis-using-vader/)\n",
    "\n",
    "def sentiment_scores(text): \n",
    "    sid_obj = SentimentIntensityAnalyzer() \n",
    "    sentiment_dict = sid_obj.polarity_scores(text) \n",
    "    print(\"Overall sentiment is : \", sentiment_dict) \n",
    "    print(\"Text was rated as \", sentiment_dict['neg']*100, \"% Negative\") \n",
    "    print(\"Text was rated as \", sentiment_dict['neu']*100, \"% Neutral\") \n",
    "    print(\"Text was rated as \", sentiment_dict['pos']*100, \"% Positive\") \n",
    "    print(\"Text Overall Rated As\", end = \" \") \n",
    "\n",
    "    # decide sentiment as positive, negative and neutral \n",
    "    if sentiment_dict['compound'] >= 0.05 : \n",
    "        print(\"Positive\") \n",
    "    elif sentiment_dict['compound'] <= - 0.05 : \n",
    "        print(\"Negative\") \n",
    "    else : \n",
    "        print(\"Neutral\") "
   ]
  },
  {
   "cell_type": "code",
   "execution_count": null,
   "metadata": {},
   "outputs": [],
   "source": [
    "sentiment_scores(macbeth)"
   ]
  },
  {
   "cell_type": "markdown",
   "metadata": {},
   "source": [
    "**Sentiment Analysis: Much Ado About Nothing**"
   ]
  },
  {
   "cell_type": "code",
   "execution_count": null,
   "metadata": {},
   "outputs": [],
   "source": [
    "much = df_new.loc[df_new['Play'].isin(['Much Ado about nothing'])]\n",
    "much = much.to_string()"
   ]
  },
  {
   "cell_type": "code",
   "execution_count": null,
   "metadata": {},
   "outputs": [],
   "source": [
    "# function to print sentiments (https://www.geeksforgeeks.org/python-sentiment-analysis-using-vader/)\n",
    "\n",
    "def sentiment_scores(text): \n",
    "    sid_obj = SentimentIntensityAnalyzer() \n",
    "    sentiment_dict = sid_obj.polarity_scores(text) \n",
    "    print(\"Overall sentiment is : \", sentiment_dict) \n",
    "    print(\"Text was rated as \", sentiment_dict['neg']*100, \"% Negative\") \n",
    "    print(\"Text was rated as \", sentiment_dict['neu']*100, \"% Neutral\") \n",
    "    print(\"Text was rated as \", sentiment_dict['pos']*100, \"% Positive\") \n",
    "    print(\"Text Overall Rated As\", end = \" \") \n",
    "\n",
    "    # decide sentiment as positive, negative and neutral \n",
    "    if sentiment_dict['compound'] >= 0.05 : \n",
    "        print(\"Positive\") \n",
    "    elif sentiment_dict['compound'] <= - 0.05 : \n",
    "        print(\"Negative\") \n",
    "    else : \n",
    "        print(\"Neutral\") "
   ]
  },
  {
   "cell_type": "code",
   "execution_count": null,
   "metadata": {},
   "outputs": [],
   "source": [
    "sentiment_scores(much)"
   ]
  },
  {
   "cell_type": "code",
   "execution_count": null,
   "metadata": {},
   "outputs": [],
   "source": [
    "# This person used TextBlob to do a sentiment analysis of Hamlet:\n",
    "# https://github.com/cyschneck/Billy-Bot\n",
    "# Choosing my s.a. library: https://www.iflexion.com/blog/sentiment-analysis-python"
   ]
  },
  {
   "cell_type": "markdown",
   "metadata": {},
   "source": [
    "**Sentiment Analysis: A Winter's Tale**"
   ]
  },
  {
   "cell_type": "code",
   "execution_count": null,
   "metadata": {
    "scrolled": false
   },
   "outputs": [],
   "source": [
    "tale = df_new.loc[df_new['Play'].isin(['A Winters Tale'])]\n",
    "tale = tale.to_string()"
   ]
  },
  {
   "cell_type": "code",
   "execution_count": null,
   "metadata": {},
   "outputs": [],
   "source": [
    "# function to print sentiments (https://www.geeksforgeeks.org/python-sentiment-analysis-using-vader/)\n",
    "\n",
    "def sentiment_scores(text): \n",
    "    sid_obj = SentimentIntensityAnalyzer() \n",
    "    sentiment_dict = sid_obj.polarity_scores(text) \n",
    "    print(\"Overall sentiment is : \", sentiment_dict) \n",
    "    print(\"Text was rated as \", sentiment_dict['neg']*100, \"% Negative\") \n",
    "    print(\"Text was rated as \", sentiment_dict['neu']*100, \"% Neutral\") \n",
    "    print(\"Text was rated as \", sentiment_dict['pos']*100, \"% Positive\") \n",
    "    print(\"Text Overall Rated As\", end = \" \") \n",
    "\n",
    "    # decide sentiment as positive, negative and neutral \n",
    "    if sentiment_dict['compound'] >= 0.05 : \n",
    "        print(\"Positive\") \n",
    "    elif sentiment_dict['compound'] <= - 0.05 : \n",
    "        print(\"Negative\") \n",
    "    else : \n",
    "        print(\"Neutral\") "
   ]
  },
  {
   "cell_type": "code",
   "execution_count": null,
   "metadata": {},
   "outputs": [],
   "source": [
    "sentiment_scores(tale)"
   ]
  },
  {
   "cell_type": "markdown",
   "metadata": {},
   "source": [
    "**Sentiment Analysis: Henry IV**"
   ]
  },
  {
   "cell_type": "code",
   "execution_count": null,
   "metadata": {},
   "outputs": [],
   "source": [
    "henry = df_new.loc[df_new['Play'].isin(['Henry IV'])]\n",
    "henry = henry.to_string()"
   ]
  },
  {
   "cell_type": "code",
   "execution_count": null,
   "metadata": {},
   "outputs": [],
   "source": [
    "def sentiment_scores(text): \n",
    "    sid_obj = SentimentIntensityAnalyzer() \n",
    "    sentiment_dict = sid_obj.polarity_scores(text) \n",
    "    print(\"Overall sentiment is : \", sentiment_dict) \n",
    "    print(\"Text was rated as \", sentiment_dict['neg']*100, \"% Negative\") \n",
    "    print(\"Text was rated as \", sentiment_dict['neu']*100, \"% Neutral\") \n",
    "    print(\"Text was rated as \", sentiment_dict['pos']*100, \"% Positive\") \n",
    "    print(\"Text Overall Rated As\", end = \" \") \n",
    "\n",
    "    # decide sentiment as positive, negative and neutral \n",
    "    if sentiment_dict['compound'] >= 0.05 : \n",
    "        print(\"Positive\") \n",
    "    elif sentiment_dict['compound'] <= - 0.05 : \n",
    "        print(\"Negative\") \n",
    "    else : \n",
    "        print(\"Neutral\") "
   ]
  },
  {
   "cell_type": "code",
   "execution_count": null,
   "metadata": {},
   "outputs": [],
   "source": [
    "sentiment_scores(henry)"
   ]
  },
  {
   "cell_type": "markdown",
   "metadata": {},
   "source": [
    "**Sentiment Analysis: Merry Wives of Windsor**"
   ]
  },
  {
   "cell_type": "code",
   "execution_count": null,
   "metadata": {},
   "outputs": [],
   "source": [
    "merry = df_new.loc[df_new['Play'].isin(['Merry Wives of Windsor'])]\n",
    "merry = merry.to_string()"
   ]
  },
  {
   "cell_type": "code",
   "execution_count": null,
   "metadata": {},
   "outputs": [],
   "source": [
    "def sentiment_scores(text): \n",
    "    sid_obj = SentimentIntensityAnalyzer() \n",
    "    sentiment_dict = sid_obj.polarity_scores(text) \n",
    "    print(\"Overall sentiment is : \", sentiment_dict) \n",
    "    print(\"Text was rated as \", sentiment_dict['neg']*100, \"% Negative\") \n",
    "    print(\"Text was rated as \", sentiment_dict['neu']*100, \"% Neutral\") \n",
    "    print(\"Text was rated as \", sentiment_dict['pos']*100, \"% Positive\") \n",
    "    print(\"Text Overall Rated As\", end = \" \") \n",
    "\n",
    "    # decide sentiment as positive, negative and neutral \n",
    "    if sentiment_dict['compound'] >= 0.05 : \n",
    "        print(\"Positive\") \n",
    "    elif sentiment_dict['compound'] <= - 0.05 : \n",
    "        print(\"Negative\") \n",
    "    else : \n",
    "        print(\"Neutral\") "
   ]
  },
  {
   "cell_type": "code",
   "execution_count": null,
   "metadata": {},
   "outputs": [],
   "source": [
    "sentiment_scores(merry)"
   ]
  },
  {
   "cell_type": "markdown",
   "metadata": {},
   "source": [
    "**Sentiment Analysis: Falstaff**"
   ]
  },
  {
   "cell_type": "code",
   "execution_count": null,
   "metadata": {},
   "outputs": [],
   "source": [
    "# 1 Henry IV, 2 Henry IV, and The Merry Wives of Windsor"
   ]
  },
  {
   "cell_type": "code",
   "execution_count": null,
   "metadata": {},
   "outputs": [],
   "source": [
    "'''Falstaff, generally held to be Shakespeare's greatest comic character, \n",
    "appears in three plays: 1 Henry IV, 2 Henry IV, and The Merry Wives of \n",
    "Windsor.'''"
   ]
  },
  {
   "cell_type": "code",
   "execution_count": null,
   "metadata": {},
   "outputs": [],
   "source": [
    "Falstaff1 = df_new.loc[(df_new['Play'] == 'Henry IV') & (df_new['Player'] == 'Falstaff')]\n",
    "Falstaff1"
   ]
  },
  {
   "cell_type": "code",
   "execution_count": null,
   "metadata": {},
   "outputs": [],
   "source": [
    "df_new.loc[(df_new['Player'] == 'Falstaff')]"
   ]
  },
  {
   "cell_type": "code",
   "execution_count": null,
   "metadata": {},
   "outputs": [],
   "source": [
    "sorted(df_new[\"Player\"].unique())"
   ]
  },
  {
   "cell_type": "code",
   "execution_count": null,
   "metadata": {
    "scrolled": true
   },
   "outputs": [],
   "source": [
    "Falstaff1 = df_new.loc[(df_new['Play'] == 'Henry IV') & (df_new['Player'] == 'FALSTAFF')]"
   ]
  },
  {
   "cell_type": "code",
   "execution_count": null,
   "metadata": {},
   "outputs": [],
   "source": [
    "Falstaff1 = Falstaff1.to_string()"
   ]
  },
  {
   "cell_type": "code",
   "execution_count": null,
   "metadata": {},
   "outputs": [],
   "source": [
    "def sentiment_scores(text): \n",
    "    sid_obj = SentimentIntensityAnalyzer() \n",
    "    sentiment_dict = sid_obj.polarity_scores(text) \n",
    "    print(\"Overall sentiment is : \", sentiment_dict) \n",
    "    print(\"Text was rated as \", sentiment_dict['neg']*100, \"% Negative\") \n",
    "    print(\"Text was rated as \", sentiment_dict['neu']*100, \"% Neutral\") \n",
    "    print(\"Text was rated as \", sentiment_dict['pos']*100, \"% Positive\") \n",
    "    print(\"Text Overall Rated As\", end = \" \") \n",
    "\n",
    "    # decide sentiment as positive, negative and neutral \n",
    "    if sentiment_dict['compound'] >= 0.05 : \n",
    "        print(\"Positive\") \n",
    "    elif sentiment_dict['compound'] <= - 0.05 : \n",
    "        print(\"Negative\") \n",
    "    else : \n",
    "        print(\"Neutral\") "
   ]
  },
  {
   "cell_type": "code",
   "execution_count": null,
   "metadata": {},
   "outputs": [],
   "source": [
    "sentiment_scores(Falstaff1)"
   ]
  },
  {
   "cell_type": "code",
   "execution_count": null,
   "metadata": {},
   "outputs": [],
   "source": [
    "Falstaff2 = df_new.loc[(df_new['Play'] == 'Merry Wives of Windsor') & (df_new['Player'] == 'FALSTAFF')]"
   ]
  },
  {
   "cell_type": "code",
   "execution_count": null,
   "metadata": {},
   "outputs": [],
   "source": [
    "Falstaff2 = Falstaff2.to_string()"
   ]
  },
  {
   "cell_type": "code",
   "execution_count": null,
   "metadata": {},
   "outputs": [],
   "source": [
    "def sentiment_scores(text): \n",
    "    sid_obj = SentimentIntensityAnalyzer() \n",
    "    sentiment_dict = sid_obj.polarity_scores(text) \n",
    "    print(\"Overall sentiment is : \", sentiment_dict) \n",
    "    print(\"Text was rated as \", sentiment_dict['neg']*100, \"% Negative\") \n",
    "    print(\"Text was rated as \", sentiment_dict['neu']*100, \"% Neutral\") \n",
    "    print(\"Text was rated as \", sentiment_dict['pos']*100, \"% Positive\") \n",
    "    print(\"Text Overall Rated As\", end = \" \") \n",
    "\n",
    "    # decide sentiment as positive, negative and neutral \n",
    "    if sentiment_dict['compound'] >= 0.05 : \n",
    "        print(\"Positive\") \n",
    "    elif sentiment_dict['compound'] <= - 0.05 : \n",
    "        print(\"Negative\") \n",
    "    else : \n",
    "        print(\"Neutral\") "
   ]
  },
  {
   "cell_type": "code",
   "execution_count": null,
   "metadata": {},
   "outputs": [],
   "source": [
    "sentiment_scores(Falstaff2)"
   ]
  },
  {
   "cell_type": "code",
   "execution_count": 4,
   "metadata": {},
   "outputs": [],
   "source": [
    "# import total comedy plays text\n",
    "df_comedy = pd.read_csv(r'./comedy_text.csv')"
   ]
  },
  {
   "cell_type": "code",
   "execution_count": 5,
   "metadata": {},
   "outputs": [],
   "source": [
    "total_com = df_comedy\n",
    "total_com = total_com.to_string()"
   ]
  },
  {
   "cell_type": "code",
   "execution_count": null,
   "metadata": {},
   "outputs": [],
   "source": [
    "def sentiment_scores(text): \n",
    "    sid_obj = SentimentIntensityAnalyzer() \n",
    "    sentiment_dict = sid_obj.polarity_scores(text) \n",
    "    print(\"Overall sentiment is : \", sentiment_dict) \n",
    "    print(\"Text was rated as \", sentiment_dict['neg']*100, \"% Negative\") \n",
    "    print(\"Text was rated as \", sentiment_dict['neu']*100, \"% Neutral\") \n",
    "    print(\"Text was rated as \", sentiment_dict['pos']*100, \"% Positive\") \n",
    "    print(\"Text Overall Rated As\", end = \" \") \n",
    "\n",
    "    # decide sentiment as positive, negative and neutral \n",
    "    if sentiment_dict['compound'] >= 0.05 : \n",
    "        print(\"Positive\") \n",
    "    elif sentiment_dict['compound'] <= - 0.05 : \n",
    "        print(\"Negative\") \n",
    "    else : \n",
    "        print(\"Neutral\") "
   ]
  },
  {
   "cell_type": "code",
   "execution_count": null,
   "metadata": {},
   "outputs": [],
   "source": [
    "sentiment_scores(total_com)"
   ]
  },
  {
   "cell_type": "code",
   "execution_count": null,
   "metadata": {},
   "outputs": [],
   "source": []
  },
  {
   "cell_type": "code",
   "execution_count": null,
   "metadata": {},
   "outputs": [],
   "source": []
  },
  {
   "cell_type": "code",
   "execution_count": null,
   "metadata": {},
   "outputs": [],
   "source": [
    "total = df_new.to_string()"
   ]
  }
 ],
 "metadata": {
  "kernelspec": {
   "display_name": "Python 3",
   "language": "python",
   "name": "python3"
  },
  "language_info": {
   "codemirror_mode": {
    "name": "ipython",
    "version": 3
   },
   "file_extension": ".py",
   "mimetype": "text/x-python",
   "name": "python",
   "nbconvert_exporter": "python",
   "pygments_lexer": "ipython3",
   "version": "3.7.4"
  }
 },
 "nbformat": 4,
 "nbformat_minor": 2
}
