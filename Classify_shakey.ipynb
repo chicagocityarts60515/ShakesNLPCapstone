{
 "cells": [
  {
   "cell_type": "code",
   "execution_count": 1,
   "metadata": {},
   "outputs": [],
   "source": [
    "import pandas as pd\n",
    "from sklearn.model_selection import train_test_split, GridSearchCV\n",
    "from sklearn.pipeline import Pipeline\n",
    "from sklearn.linear_model import LogisticRegression\n",
    "from sklearn.feature_extraction.text import CountVectorizer, TfidfVectorizer\n",
    "from sklearn.metrics import accuracy_score\n",
    "from sklearn.svm import SVC\n",
    "from sklearn.preprocessing import StandardScaler\n",
    "from sklearn.neighbors import KNeighborsClassifier\n",
    "from sklearn.ensemble import RandomForestClassifier"
   ]
  },
  {
   "cell_type": "code",
   "execution_count": 2,
   "metadata": {},
   "outputs": [],
   "source": [
    "# import total text\n",
    "df = pd.read_csv(r'./shakes_text.csv')"
   ]
  },
  {
   "cell_type": "code",
   "execution_count": 3,
   "metadata": {},
   "outputs": [],
   "source": [
    "df = df.astype(str)"
   ]
  },
  {
   "cell_type": "code",
   "execution_count": 5,
   "metadata": {},
   "outputs": [],
   "source": [
    "dfx = pd.DataFrame(df)\n",
    "df = dfx"
   ]
  },
  {
   "cell_type": "code",
   "execution_count": 6,
   "metadata": {},
   "outputs": [
    {
     "data": {
      "text/html": [
       "<div>\n",
       "<style scoped>\n",
       "    .dataframe tbody tr th:only-of-type {\n",
       "        vertical-align: middle;\n",
       "    }\n",
       "\n",
       "    .dataframe tbody tr th {\n",
       "        vertical-align: top;\n",
       "    }\n",
       "\n",
       "    .dataframe thead th {\n",
       "        text-align: right;\n",
       "    }\n",
       "</style>\n",
       "<table border=\"1\" class=\"dataframe\">\n",
       "  <thead>\n",
       "    <tr style=\"text-align: right;\">\n",
       "      <th></th>\n",
       "      <th>Dataline</th>\n",
       "      <th>Play</th>\n",
       "      <th>PlayerLinenumber</th>\n",
       "      <th>ActSceneLine</th>\n",
       "      <th>Player</th>\n",
       "      <th>PlayerLine</th>\n",
       "    </tr>\n",
       "  </thead>\n",
       "  <tbody>\n",
       "    <tr>\n",
       "      <td>0</td>\n",
       "      <td>1</td>\n",
       "      <td>Henry IV</td>\n",
       "      <td>0.0</td>\n",
       "      <td>0</td>\n",
       "      <td>0</td>\n",
       "      <td>ACT I</td>\n",
       "    </tr>\n",
       "    <tr>\n",
       "      <td>1</td>\n",
       "      <td>2</td>\n",
       "      <td>Henry IV</td>\n",
       "      <td>0.0</td>\n",
       "      <td>0</td>\n",
       "      <td>0</td>\n",
       "      <td>SCENE I London The palace</td>\n",
       "    </tr>\n",
       "    <tr>\n",
       "      <td>2</td>\n",
       "      <td>3</td>\n",
       "      <td>Henry IV</td>\n",
       "      <td>0.0</td>\n",
       "      <td>0</td>\n",
       "      <td>0</td>\n",
       "      <td>Enter KING HENRY LORD JOHN OF LANCASTER the EA...</td>\n",
       "    </tr>\n",
       "    <tr>\n",
       "      <td>3</td>\n",
       "      <td>4</td>\n",
       "      <td>Henry IV</td>\n",
       "      <td>1.0</td>\n",
       "      <td>1.1.1</td>\n",
       "      <td>KING HENRY IV</td>\n",
       "      <td>So shaken as we are so wan with care</td>\n",
       "    </tr>\n",
       "    <tr>\n",
       "      <td>4</td>\n",
       "      <td>5</td>\n",
       "      <td>Henry IV</td>\n",
       "      <td>1.0</td>\n",
       "      <td>1.1.2</td>\n",
       "      <td>KING HENRY IV</td>\n",
       "      <td>Find we a time for frighted peace to pant</td>\n",
       "    </tr>\n",
       "  </tbody>\n",
       "</table>\n",
       "</div>"
      ],
      "text/plain": [
       "  Dataline      Play PlayerLinenumber ActSceneLine         Player  \\\n",
       "0        1  Henry IV              0.0            0              0   \n",
       "1        2  Henry IV              0.0            0              0   \n",
       "2        3  Henry IV              0.0            0              0   \n",
       "3        4  Henry IV              1.0        1.1.1  KING HENRY IV   \n",
       "4        5  Henry IV              1.0        1.1.2  KING HENRY IV   \n",
       "\n",
       "                                          PlayerLine  \n",
       "0                                              ACT I  \n",
       "1                          SCENE I London The palace  \n",
       "2  Enter KING HENRY LORD JOHN OF LANCASTER the EA...  \n",
       "3               So shaken as we are so wan with care  \n",
       "4          Find we a time for frighted peace to pant  "
      ]
     },
     "execution_count": 6,
     "metadata": {},
     "output_type": "execute_result"
    }
   ],
   "source": [
    "df.head()"
   ]
  },
  {
   "cell_type": "code",
   "execution_count": 8,
   "metadata": {
    "scrolled": true
   },
   "outputs": [
    {
     "name": "stderr",
     "output_type": "stream",
     "text": [
      "C:\\ProgramData\\Anaconda3\\lib\\site-packages\\ipykernel_launcher.py:21: SettingWithCopyWarning: \n",
      "A value is trying to be set on a copy of a slice from a DataFrame.\n",
      "Try using .loc[row_indexer,col_indexer] = value instead\n",
      "\n",
      "See the caveats in the documentation: http://pandas.pydata.org/pandas-docs/stable/user_guide/indexing.html#returning-a-view-versus-a-copy\n"
     ]
    },
    {
     "data": {
      "text/html": [
       "<div>\n",
       "<style scoped>\n",
       "    .dataframe tbody tr th:only-of-type {\n",
       "        vertical-align: middle;\n",
       "    }\n",
       "\n",
       "    .dataframe tbody tr th {\n",
       "        vertical-align: top;\n",
       "    }\n",
       "\n",
       "    .dataframe thead th {\n",
       "        text-align: right;\n",
       "    }\n",
       "</style>\n",
       "<table border=\"1\" class=\"dataframe\">\n",
       "  <thead>\n",
       "    <tr style=\"text-align: right;\">\n",
       "      <th></th>\n",
       "      <th>Dataline</th>\n",
       "      <th>Play</th>\n",
       "      <th>PlayerLinenumber</th>\n",
       "      <th>ActSceneLine</th>\n",
       "      <th>Player</th>\n",
       "      <th>PlayerLine</th>\n",
       "      <th>Type</th>\n",
       "    </tr>\n",
       "  </thead>\n",
       "  <tbody>\n",
       "    <tr>\n",
       "      <td>0</td>\n",
       "      <td>1</td>\n",
       "      <td>Henry IV</td>\n",
       "      <td>0.0</td>\n",
       "      <td>0</td>\n",
       "      <td>0</td>\n",
       "      <td>ACT I</td>\n",
       "      <td>History</td>\n",
       "    </tr>\n",
       "    <tr>\n",
       "      <td>1</td>\n",
       "      <td>2</td>\n",
       "      <td>Henry IV</td>\n",
       "      <td>0.0</td>\n",
       "      <td>0</td>\n",
       "      <td>0</td>\n",
       "      <td>SCENE I London The palace</td>\n",
       "      <td>History</td>\n",
       "    </tr>\n",
       "    <tr>\n",
       "      <td>2</td>\n",
       "      <td>3</td>\n",
       "      <td>Henry IV</td>\n",
       "      <td>0.0</td>\n",
       "      <td>0</td>\n",
       "      <td>0</td>\n",
       "      <td>Enter KING HENRY LORD JOHN OF LANCASTER the EA...</td>\n",
       "      <td>History</td>\n",
       "    </tr>\n",
       "    <tr>\n",
       "      <td>3</td>\n",
       "      <td>4</td>\n",
       "      <td>Henry IV</td>\n",
       "      <td>1.0</td>\n",
       "      <td>1.1.1</td>\n",
       "      <td>KING HENRY IV</td>\n",
       "      <td>So shaken as we are so wan with care</td>\n",
       "      <td>History</td>\n",
       "    </tr>\n",
       "    <tr>\n",
       "      <td>4</td>\n",
       "      <td>5</td>\n",
       "      <td>Henry IV</td>\n",
       "      <td>1.0</td>\n",
       "      <td>1.1.2</td>\n",
       "      <td>KING HENRY IV</td>\n",
       "      <td>Find we a time for frighted peace to pant</td>\n",
       "      <td>History</td>\n",
       "    </tr>\n",
       "  </tbody>\n",
       "</table>\n",
       "</div>"
      ],
      "text/plain": [
       "  Dataline      Play PlayerLinenumber ActSceneLine         Player  \\\n",
       "0        1  Henry IV              0.0            0              0   \n",
       "1        2  Henry IV              0.0            0              0   \n",
       "2        3  Henry IV              0.0            0              0   \n",
       "3        4  Henry IV              1.0        1.1.1  KING HENRY IV   \n",
       "4        5  Henry IV              1.0        1.1.2  KING HENRY IV   \n",
       "\n",
       "                                          PlayerLine     Type  \n",
       "0                                              ACT I  History  \n",
       "1                          SCENE I London The palace  History  \n",
       "2  Enter KING HENRY LORD JOHN OF LANCASTER the EA...  History  \n",
       "3               So shaken as we are so wan with care  History  \n",
       "4          Find we a time for frighted peace to pant  History  "
      ]
     },
     "execution_count": 8,
     "metadata": {},
     "output_type": "execute_result"
    }
   ],
   "source": [
    "# Create History Play DataFrame\n",
    "# Pandas help: https://thispointer.com/python-pandas-select-rows-in-dataframe-by-conditions-on-multiple-columns/\n",
    "# List of History Plays http://shakespeare.mit.edu/works.html\n",
    "# Select by Play, PlayerLine\n",
    "'''Henry IV, part 1 \n",
    "Henry IV, part 2\n",
    "Henry V\n",
    "Henry VI, part 1\n",
    "Henry VI, part 2\n",
    "Henry VI, part 3\n",
    "Henry VIII\n",
    "King John\n",
    "Richard II\n",
    "Richard III'''\n",
    "\n",
    "#Return rows in 'PlayerLine' column, where rows in \"Play\" column = spec. plays\n",
    "df_history = pd.DataFrame()\n",
    "\n",
    "df_history = df.loc[df['Play'].isin(['Henry IV', 'Henry V', 'Henry VI', 'Henry VIII', 'King John', 'Richard II', 'Richard III'])]\n",
    "\n",
    "df_history['Type'] = 'History'\n",
    "\n",
    "df_history.head()"
   ]
  },
  {
   "cell_type": "code",
   "execution_count": 9,
   "metadata": {},
   "outputs": [],
   "source": [
    "df_hist = df.to_csv(r'./hist_text.csv', index = False)"
   ]
  },
  {
   "cell_type": "code",
   "execution_count": 10,
   "metadata": {
    "scrolled": true
   },
   "outputs": [
    {
     "name": "stderr",
     "output_type": "stream",
     "text": [
      "C:\\ProgramData\\Anaconda3\\lib\\site-packages\\ipykernel_launcher.py:23: SettingWithCopyWarning: \n",
      "A value is trying to be set on a copy of a slice from a DataFrame.\n",
      "Try using .loc[row_indexer,col_indexer] = value instead\n",
      "\n",
      "See the caveats in the documentation: http://pandas.pydata.org/pandas-docs/stable/user_guide/indexing.html#returning-a-view-versus-a-copy\n"
     ]
    },
    {
     "data": {
      "text/html": [
       "<div>\n",
       "<style scoped>\n",
       "    .dataframe tbody tr th:only-of-type {\n",
       "        vertical-align: middle;\n",
       "    }\n",
       "\n",
       "    .dataframe tbody tr th {\n",
       "        vertical-align: top;\n",
       "    }\n",
       "\n",
       "    .dataframe thead th {\n",
       "        text-align: right;\n",
       "    }\n",
       "</style>\n",
       "<table border=\"1\" class=\"dataframe\">\n",
       "  <thead>\n",
       "    <tr style=\"text-align: right;\">\n",
       "      <th></th>\n",
       "      <th>Dataline</th>\n",
       "      <th>Play</th>\n",
       "      <th>PlayerLinenumber</th>\n",
       "      <th>ActSceneLine</th>\n",
       "      <th>Player</th>\n",
       "      <th>PlayerLine</th>\n",
       "      <th>Type</th>\n",
       "    </tr>\n",
       "  </thead>\n",
       "  <tbody>\n",
       "    <tr>\n",
       "      <td>28474</td>\n",
       "      <td>28475</td>\n",
       "      <td>Cymbeline</td>\n",
       "      <td>49.0</td>\n",
       "      <td>0</td>\n",
       "      <td>AUFIDIUS</td>\n",
       "      <td>ACT I</td>\n",
       "      <td>Comedy</td>\n",
       "    </tr>\n",
       "    <tr>\n",
       "      <td>28475</td>\n",
       "      <td>28476</td>\n",
       "      <td>Cymbeline</td>\n",
       "      <td>49.0</td>\n",
       "      <td>0</td>\n",
       "      <td>AUFIDIUS</td>\n",
       "      <td>SCENE I Britain The garden of Cymbelines palace</td>\n",
       "      <td>Comedy</td>\n",
       "    </tr>\n",
       "    <tr>\n",
       "      <td>28476</td>\n",
       "      <td>28477</td>\n",
       "      <td>Cymbeline</td>\n",
       "      <td>49.0</td>\n",
       "      <td>0</td>\n",
       "      <td>AUFIDIUS</td>\n",
       "      <td>Enter two Gentlemen</td>\n",
       "      <td>Comedy</td>\n",
       "    </tr>\n",
       "    <tr>\n",
       "      <td>28477</td>\n",
       "      <td>28478</td>\n",
       "      <td>Cymbeline</td>\n",
       "      <td>1.0</td>\n",
       "      <td>1.1.1</td>\n",
       "      <td>First Gentleman</td>\n",
       "      <td>You do not meet a man but frowns our bloods</td>\n",
       "      <td>Comedy</td>\n",
       "    </tr>\n",
       "    <tr>\n",
       "      <td>28478</td>\n",
       "      <td>28479</td>\n",
       "      <td>Cymbeline</td>\n",
       "      <td>1.0</td>\n",
       "      <td>1.1.2</td>\n",
       "      <td>First Gentleman</td>\n",
       "      <td>No more obey the heavens than our courtiers</td>\n",
       "      <td>Comedy</td>\n",
       "    </tr>\n",
       "  </tbody>\n",
       "</table>\n",
       "</div>"
      ],
      "text/plain": [
       "      Dataline       Play PlayerLinenumber ActSceneLine           Player  \\\n",
       "28474    28475  Cymbeline             49.0            0         AUFIDIUS   \n",
       "28475    28476  Cymbeline             49.0            0         AUFIDIUS   \n",
       "28476    28477  Cymbeline             49.0            0         AUFIDIUS   \n",
       "28477    28478  Cymbeline              1.0        1.1.1  First Gentleman   \n",
       "28478    28479  Cymbeline              1.0        1.1.2  First Gentleman   \n",
       "\n",
       "                                            PlayerLine    Type  \n",
       "28474                                            ACT I  Comedy  \n",
       "28475  SCENE I Britain The garden of Cymbelines palace  Comedy  \n",
       "28476                              Enter two Gentlemen  Comedy  \n",
       "28477      You do not meet a man but frowns our bloods  Comedy  \n",
       "28478      No more obey the heavens than our courtiers  Comedy  "
      ]
     },
     "execution_count": 10,
     "metadata": {},
     "output_type": "execute_result"
    }
   ],
   "source": [
    "# Create comedy play DataFrame\n",
    "# List of Comedies http://shakespeare.mit.edu/works.html\n",
    "'''All's Well That Ends Well\n",
    "As You Like It\n",
    "The Comedy of Errors\n",
    "Cymbeline\n",
    "Love's Labours Lost\n",
    "Measure for Measure\n",
    "The Merry Wives of Windsor\n",
    "The Merchant of Venice\n",
    "A Midsummer Night's Dream\n",
    "Much Ado About Nothing\n",
    "Pericles, Prince of Tyre\n",
    "Taming of the Shrew\n",
    "The Tempest\n",
    "Troilus and Cressida\n",
    "Twelfth Night\n",
    "Two Gentlemen of Verona\n",
    "Winter's Tale'''\n",
    "\n",
    "df_comedy = df.loc[df['Play'].isin([\"All's Well That Ends Well\",'As You Like It','The Comedy of Errors','Cymbeline',\"Loves Labours Lost\",'Measure for Measure','The Merry Wives of Windsor','The Merchant of Venice',\"A Midsummer Nights Dream\",'Much Ado About Nothing','Pericles, Prince of Tyre','Taming of the Shrew','The Tempest','Troilus and Cressida','Twelfth Night','Two Gentlemen of Verona',\"Winter's Tale\"])]\n",
    "\n",
    "df_comedy['Type'] = 'Comedy'\n",
    "\n",
    "df_comedy.head()"
   ]
  },
  {
   "cell_type": "code",
   "execution_count": 11,
   "metadata": {},
   "outputs": [],
   "source": [
    "df_com = df.to_csv(r'./comedy_text.csv', index = False)"
   ]
  },
  {
   "cell_type": "code",
   "execution_count": 12,
   "metadata": {
    "scrolled": true
   },
   "outputs": [
    {
     "name": "stderr",
     "output_type": "stream",
     "text": [
      "C:\\ProgramData\\Anaconda3\\lib\\site-packages\\ipykernel_launcher.py:15: SettingWithCopyWarning: \n",
      "A value is trying to be set on a copy of a slice from a DataFrame.\n",
      "Try using .loc[row_indexer,col_indexer] = value instead\n",
      "\n",
      "See the caveats in the documentation: http://pandas.pydata.org/pandas-docs/stable/user_guide/indexing.html#returning-a-view-versus-a-copy\n",
      "  from ipykernel import kernelapp as app\n"
     ]
    },
    {
     "data": {
      "text/html": [
       "<div>\n",
       "<style scoped>\n",
       "    .dataframe tbody tr th:only-of-type {\n",
       "        vertical-align: middle;\n",
       "    }\n",
       "\n",
       "    .dataframe tbody tr th {\n",
       "        vertical-align: top;\n",
       "    }\n",
       "\n",
       "    .dataframe thead th {\n",
       "        text-align: right;\n",
       "    }\n",
       "</style>\n",
       "<table border=\"1\" class=\"dataframe\">\n",
       "  <thead>\n",
       "    <tr style=\"text-align: right;\">\n",
       "      <th></th>\n",
       "      <th>Dataline</th>\n",
       "      <th>Play</th>\n",
       "      <th>PlayerLinenumber</th>\n",
       "      <th>ActSceneLine</th>\n",
       "      <th>Player</th>\n",
       "      <th>PlayerLine</th>\n",
       "      <th>Type</th>\n",
       "    </tr>\n",
       "  </thead>\n",
       "  <tbody>\n",
       "    <tr>\n",
       "      <td>18565</td>\n",
       "      <td>18566</td>\n",
       "      <td>Antony and Cleopatra</td>\n",
       "      <td>52.0</td>\n",
       "      <td>0</td>\n",
       "      <td>ROSALIND</td>\n",
       "      <td>ACT I</td>\n",
       "      <td>Tragedy</td>\n",
       "    </tr>\n",
       "    <tr>\n",
       "      <td>18566</td>\n",
       "      <td>18567</td>\n",
       "      <td>Antony and Cleopatra</td>\n",
       "      <td>52.0</td>\n",
       "      <td>0</td>\n",
       "      <td>ROSALIND</td>\n",
       "      <td>SCENE I Alexandria A room in CLEOPATRAs palace</td>\n",
       "      <td>Tragedy</td>\n",
       "    </tr>\n",
       "    <tr>\n",
       "      <td>18567</td>\n",
       "      <td>18568</td>\n",
       "      <td>Antony and Cleopatra</td>\n",
       "      <td>52.0</td>\n",
       "      <td>0</td>\n",
       "      <td>ROSALIND</td>\n",
       "      <td>Enter DEMETRIUS and PHILO</td>\n",
       "      <td>Tragedy</td>\n",
       "    </tr>\n",
       "    <tr>\n",
       "      <td>18568</td>\n",
       "      <td>18569</td>\n",
       "      <td>Antony and Cleopatra</td>\n",
       "      <td>1.0</td>\n",
       "      <td>1.1.1</td>\n",
       "      <td>PHILO</td>\n",
       "      <td>Nay but this dotage of our generals</td>\n",
       "      <td>Tragedy</td>\n",
       "    </tr>\n",
       "    <tr>\n",
       "      <td>18569</td>\n",
       "      <td>18570</td>\n",
       "      <td>Antony and Cleopatra</td>\n",
       "      <td>1.0</td>\n",
       "      <td>1.1.2</td>\n",
       "      <td>PHILO</td>\n",
       "      <td>Oerflows the measure those his goodly eyes</td>\n",
       "      <td>Tragedy</td>\n",
       "    </tr>\n",
       "  </tbody>\n",
       "</table>\n",
       "</div>"
      ],
      "text/plain": [
       "      Dataline                  Play PlayerLinenumber ActSceneLine    Player  \\\n",
       "18565    18566  Antony and Cleopatra             52.0            0  ROSALIND   \n",
       "18566    18567  Antony and Cleopatra             52.0            0  ROSALIND   \n",
       "18567    18568  Antony and Cleopatra             52.0            0  ROSALIND   \n",
       "18568    18569  Antony and Cleopatra              1.0        1.1.1     PHILO   \n",
       "18569    18570  Antony and Cleopatra              1.0        1.1.2     PHILO   \n",
       "\n",
       "                                           PlayerLine     Type  \n",
       "18565                                           ACT I  Tragedy  \n",
       "18566  SCENE I Alexandria A room in CLEOPATRAs palace  Tragedy  \n",
       "18567                       Enter DEMETRIUS and PHILO  Tragedy  \n",
       "18568             Nay but this dotage of our generals  Tragedy  \n",
       "18569      Oerflows the measure those his goodly eyes  Tragedy  "
      ]
     },
     "execution_count": 12,
     "metadata": {},
     "output_type": "execute_result"
    }
   ],
   "source": [
    "# List of Tragedies http://shakespeare.mit.edu/works.html\n",
    "'''Antony and Cleopatra\n",
    "Coriolanus\n",
    "Hamlet\n",
    "Julius Caesar\n",
    "King Lear\n",
    "Macbeth\n",
    "Othello\n",
    "Romeo and Juliet\n",
    "Timon of Athens\n",
    "Titus Andronicus'''\n",
    "\n",
    "df_tragedy = df.loc[df['Play'].isin(['Antony and Cleopatra','Coriolanus','Hamlet','King Lear','Julius Caesar','Macbeth','Othello','Romeo and Juliet','Timon of Athens','Titus Andronicus'])]\n",
    "\n",
    "df_tragedy['Type'] = 'Tragedy'\n",
    "\n",
    "df_tragedy.head()"
   ]
  },
  {
   "cell_type": "code",
   "execution_count": 13,
   "metadata": {},
   "outputs": [],
   "source": [
    "df_trag = df.to_csv(r'./tragedy_text.csv', index = False)"
   ]
  },
  {
   "cell_type": "code",
   "execution_count": 14,
   "metadata": {},
   "outputs": [
    {
     "data": {
      "text/html": [
       "<div>\n",
       "<style scoped>\n",
       "    .dataframe tbody tr th:only-of-type {\n",
       "        vertical-align: middle;\n",
       "    }\n",
       "\n",
       "    .dataframe tbody tr th {\n",
       "        vertical-align: top;\n",
       "    }\n",
       "\n",
       "    .dataframe thead th {\n",
       "        text-align: right;\n",
       "    }\n",
       "</style>\n",
       "<table border=\"1\" class=\"dataframe\">\n",
       "  <thead>\n",
       "    <tr style=\"text-align: right;\">\n",
       "      <th></th>\n",
       "      <th>Dataline</th>\n",
       "      <th>Play</th>\n",
       "      <th>PlayerLinenumber</th>\n",
       "      <th>ActSceneLine</th>\n",
       "      <th>Player</th>\n",
       "      <th>PlayerLine</th>\n",
       "      <th>Type</th>\n",
       "    </tr>\n",
       "  </thead>\n",
       "  <tbody>\n",
       "    <tr>\n",
       "      <td>0</td>\n",
       "      <td>1</td>\n",
       "      <td>Henry IV</td>\n",
       "      <td>0.0</td>\n",
       "      <td>0</td>\n",
       "      <td>0</td>\n",
       "      <td>ACT I</td>\n",
       "      <td>History</td>\n",
       "    </tr>\n",
       "    <tr>\n",
       "      <td>1</td>\n",
       "      <td>2</td>\n",
       "      <td>Henry IV</td>\n",
       "      <td>0.0</td>\n",
       "      <td>0</td>\n",
       "      <td>0</td>\n",
       "      <td>SCENE I London The palace</td>\n",
       "      <td>History</td>\n",
       "    </tr>\n",
       "    <tr>\n",
       "      <td>2</td>\n",
       "      <td>3</td>\n",
       "      <td>Henry IV</td>\n",
       "      <td>0.0</td>\n",
       "      <td>0</td>\n",
       "      <td>0</td>\n",
       "      <td>Enter KING HENRY LORD JOHN OF LANCASTER the EA...</td>\n",
       "      <td>History</td>\n",
       "    </tr>\n",
       "    <tr>\n",
       "      <td>3</td>\n",
       "      <td>4</td>\n",
       "      <td>Henry IV</td>\n",
       "      <td>1.0</td>\n",
       "      <td>1.1.1</td>\n",
       "      <td>KING HENRY IV</td>\n",
       "      <td>So shaken as we are so wan with care</td>\n",
       "      <td>History</td>\n",
       "    </tr>\n",
       "    <tr>\n",
       "      <td>4</td>\n",
       "      <td>5</td>\n",
       "      <td>Henry IV</td>\n",
       "      <td>1.0</td>\n",
       "      <td>1.1.2</td>\n",
       "      <td>KING HENRY IV</td>\n",
       "      <td>Find we a time for frighted peace to pant</td>\n",
       "      <td>History</td>\n",
       "    </tr>\n",
       "    <tr>\n",
       "      <td>...</td>\n",
       "      <td>...</td>\n",
       "      <td>...</td>\n",
       "      <td>...</td>\n",
       "      <td>...</td>\n",
       "      <td>...</td>\n",
       "      <td>...</td>\n",
       "      <td>...</td>\n",
       "    </tr>\n",
       "    <tr>\n",
       "      <td>107902</td>\n",
       "      <td>107903</td>\n",
       "      <td>Two Gentlemen of Verona</td>\n",
       "      <td>52.0</td>\n",
       "      <td>5.4.177</td>\n",
       "      <td>VALENTINE</td>\n",
       "      <td>Come Proteus tis your penance but to hear</td>\n",
       "      <td>Comedy</td>\n",
       "    </tr>\n",
       "    <tr>\n",
       "      <td>107903</td>\n",
       "      <td>107904</td>\n",
       "      <td>Two Gentlemen of Verona</td>\n",
       "      <td>52.0</td>\n",
       "      <td>5.4.178</td>\n",
       "      <td>VALENTINE</td>\n",
       "      <td>The story of your loves discovered</td>\n",
       "      <td>Comedy</td>\n",
       "    </tr>\n",
       "    <tr>\n",
       "      <td>107904</td>\n",
       "      <td>107905</td>\n",
       "      <td>Two Gentlemen of Verona</td>\n",
       "      <td>52.0</td>\n",
       "      <td>5.4.179</td>\n",
       "      <td>VALENTINE</td>\n",
       "      <td>That done our day of marriage shall be yours</td>\n",
       "      <td>Comedy</td>\n",
       "    </tr>\n",
       "    <tr>\n",
       "      <td>107905</td>\n",
       "      <td>107906</td>\n",
       "      <td>Two Gentlemen of Verona</td>\n",
       "      <td>52.0</td>\n",
       "      <td>5.4.180</td>\n",
       "      <td>VALENTINE</td>\n",
       "      <td>One feast one house one mutual happiness</td>\n",
       "      <td>Comedy</td>\n",
       "    </tr>\n",
       "    <tr>\n",
       "      <td>107906</td>\n",
       "      <td>107907</td>\n",
       "      <td>Two Gentlemen of Verona</td>\n",
       "      <td>52.0</td>\n",
       "      <td>0</td>\n",
       "      <td>VALENTINE</td>\n",
       "      <td>Exeunt</td>\n",
       "      <td>Comedy</td>\n",
       "    </tr>\n",
       "  </tbody>\n",
       "</table>\n",
       "<p>40532 rows × 7 columns</p>\n",
       "</div>"
      ],
      "text/plain": [
       "       Dataline                     Play PlayerLinenumber ActSceneLine  \\\n",
       "0             1                 Henry IV              0.0            0   \n",
       "1             2                 Henry IV              0.0            0   \n",
       "2             3                 Henry IV              0.0            0   \n",
       "3             4                 Henry IV              1.0        1.1.1   \n",
       "4             5                 Henry IV              1.0        1.1.2   \n",
       "...         ...                      ...              ...          ...   \n",
       "107902   107903  Two Gentlemen of Verona             52.0      5.4.177   \n",
       "107903   107904  Two Gentlemen of Verona             52.0      5.4.178   \n",
       "107904   107905  Two Gentlemen of Verona             52.0      5.4.179   \n",
       "107905   107906  Two Gentlemen of Verona             52.0      5.4.180   \n",
       "107906   107907  Two Gentlemen of Verona             52.0            0   \n",
       "\n",
       "               Player                                         PlayerLine  \\\n",
       "0                   0                                              ACT I   \n",
       "1                   0                          SCENE I London The palace   \n",
       "2                   0  Enter KING HENRY LORD JOHN OF LANCASTER the EA...   \n",
       "3       KING HENRY IV               So shaken as we are so wan with care   \n",
       "4       KING HENRY IV          Find we a time for frighted peace to pant   \n",
       "...               ...                                                ...   \n",
       "107902      VALENTINE          Come Proteus tis your penance but to hear   \n",
       "107903      VALENTINE                 The story of your loves discovered   \n",
       "107904      VALENTINE       That done our day of marriage shall be yours   \n",
       "107905      VALENTINE           One feast one house one mutual happiness   \n",
       "107906      VALENTINE                                             Exeunt   \n",
       "\n",
       "           Type  \n",
       "0       History  \n",
       "1       History  \n",
       "2       History  \n",
       "3       History  \n",
       "4       History  \n",
       "...         ...  \n",
       "107902   Comedy  \n",
       "107903   Comedy  \n",
       "107904   Comedy  \n",
       "107905   Comedy  \n",
       "107906   Comedy  \n",
       "\n",
       "[40532 rows x 7 columns]"
      ]
     },
     "execution_count": 14,
     "metadata": {},
     "output_type": "execute_result"
    }
   ],
   "source": [
    "# Create History-Comedy DataFrame\n",
    "df_hist_com = pd.concat([df_history, df_comedy])\n",
    "df_hist_com"
   ]
  },
  {
   "cell_type": "code",
   "execution_count": 15,
   "metadata": {},
   "outputs": [
    {
     "data": {
      "text/html": [
       "<div>\n",
       "<style scoped>\n",
       "    .dataframe tbody tr th:only-of-type {\n",
       "        vertical-align: middle;\n",
       "    }\n",
       "\n",
       "    .dataframe tbody tr th {\n",
       "        vertical-align: top;\n",
       "    }\n",
       "\n",
       "    .dataframe thead th {\n",
       "        text-align: right;\n",
       "    }\n",
       "</style>\n",
       "<table border=\"1\" class=\"dataframe\">\n",
       "  <thead>\n",
       "    <tr style=\"text-align: right;\">\n",
       "      <th></th>\n",
       "      <th>Dataline</th>\n",
       "      <th>Play</th>\n",
       "      <th>PlayerLinenumber</th>\n",
       "      <th>ActSceneLine</th>\n",
       "      <th>Player</th>\n",
       "      <th>PlayerLine</th>\n",
       "      <th>Type</th>\n",
       "    </tr>\n",
       "  </thead>\n",
       "  <tbody>\n",
       "    <tr>\n",
       "      <td>0</td>\n",
       "      <td>1</td>\n",
       "      <td>Henry IV</td>\n",
       "      <td>0.0</td>\n",
       "      <td>0</td>\n",
       "      <td>0</td>\n",
       "      <td>ACT I</td>\n",
       "      <td>0</td>\n",
       "    </tr>\n",
       "    <tr>\n",
       "      <td>1</td>\n",
       "      <td>2</td>\n",
       "      <td>Henry IV</td>\n",
       "      <td>0.0</td>\n",
       "      <td>0</td>\n",
       "      <td>0</td>\n",
       "      <td>SCENE I London The palace</td>\n",
       "      <td>0</td>\n",
       "    </tr>\n",
       "    <tr>\n",
       "      <td>2</td>\n",
       "      <td>3</td>\n",
       "      <td>Henry IV</td>\n",
       "      <td>0.0</td>\n",
       "      <td>0</td>\n",
       "      <td>0</td>\n",
       "      <td>Enter KING HENRY LORD JOHN OF LANCASTER the EA...</td>\n",
       "      <td>0</td>\n",
       "    </tr>\n",
       "    <tr>\n",
       "      <td>3</td>\n",
       "      <td>4</td>\n",
       "      <td>Henry IV</td>\n",
       "      <td>1.0</td>\n",
       "      <td>1.1.1</td>\n",
       "      <td>KING HENRY IV</td>\n",
       "      <td>So shaken as we are so wan with care</td>\n",
       "      <td>0</td>\n",
       "    </tr>\n",
       "    <tr>\n",
       "      <td>4</td>\n",
       "      <td>5</td>\n",
       "      <td>Henry IV</td>\n",
       "      <td>1.0</td>\n",
       "      <td>1.1.2</td>\n",
       "      <td>KING HENRY IV</td>\n",
       "      <td>Find we a time for frighted peace to pant</td>\n",
       "      <td>0</td>\n",
       "    </tr>\n",
       "    <tr>\n",
       "      <td>...</td>\n",
       "      <td>...</td>\n",
       "      <td>...</td>\n",
       "      <td>...</td>\n",
       "      <td>...</td>\n",
       "      <td>...</td>\n",
       "      <td>...</td>\n",
       "      <td>...</td>\n",
       "    </tr>\n",
       "    <tr>\n",
       "      <td>107902</td>\n",
       "      <td>107903</td>\n",
       "      <td>Two Gentlemen of Verona</td>\n",
       "      <td>52.0</td>\n",
       "      <td>5.4.177</td>\n",
       "      <td>VALENTINE</td>\n",
       "      <td>Come Proteus tis your penance but to hear</td>\n",
       "      <td>1</td>\n",
       "    </tr>\n",
       "    <tr>\n",
       "      <td>107903</td>\n",
       "      <td>107904</td>\n",
       "      <td>Two Gentlemen of Verona</td>\n",
       "      <td>52.0</td>\n",
       "      <td>5.4.178</td>\n",
       "      <td>VALENTINE</td>\n",
       "      <td>The story of your loves discovered</td>\n",
       "      <td>1</td>\n",
       "    </tr>\n",
       "    <tr>\n",
       "      <td>107904</td>\n",
       "      <td>107905</td>\n",
       "      <td>Two Gentlemen of Verona</td>\n",
       "      <td>52.0</td>\n",
       "      <td>5.4.179</td>\n",
       "      <td>VALENTINE</td>\n",
       "      <td>That done our day of marriage shall be yours</td>\n",
       "      <td>1</td>\n",
       "    </tr>\n",
       "    <tr>\n",
       "      <td>107905</td>\n",
       "      <td>107906</td>\n",
       "      <td>Two Gentlemen of Verona</td>\n",
       "      <td>52.0</td>\n",
       "      <td>5.4.180</td>\n",
       "      <td>VALENTINE</td>\n",
       "      <td>One feast one house one mutual happiness</td>\n",
       "      <td>1</td>\n",
       "    </tr>\n",
       "    <tr>\n",
       "      <td>107906</td>\n",
       "      <td>107907</td>\n",
       "      <td>Two Gentlemen of Verona</td>\n",
       "      <td>52.0</td>\n",
       "      <td>0</td>\n",
       "      <td>VALENTINE</td>\n",
       "      <td>Exeunt</td>\n",
       "      <td>1</td>\n",
       "    </tr>\n",
       "  </tbody>\n",
       "</table>\n",
       "<p>40532 rows × 7 columns</p>\n",
       "</div>"
      ],
      "text/plain": [
       "       Dataline                     Play PlayerLinenumber ActSceneLine  \\\n",
       "0             1                 Henry IV              0.0            0   \n",
       "1             2                 Henry IV              0.0            0   \n",
       "2             3                 Henry IV              0.0            0   \n",
       "3             4                 Henry IV              1.0        1.1.1   \n",
       "4             5                 Henry IV              1.0        1.1.2   \n",
       "...         ...                      ...              ...          ...   \n",
       "107902   107903  Two Gentlemen of Verona             52.0      5.4.177   \n",
       "107903   107904  Two Gentlemen of Verona             52.0      5.4.178   \n",
       "107904   107905  Two Gentlemen of Verona             52.0      5.4.179   \n",
       "107905   107906  Two Gentlemen of Verona             52.0      5.4.180   \n",
       "107906   107907  Two Gentlemen of Verona             52.0            0   \n",
       "\n",
       "               Player                                         PlayerLine  Type  \n",
       "0                   0                                              ACT I     0  \n",
       "1                   0                          SCENE I London The palace     0  \n",
       "2                   0  Enter KING HENRY LORD JOHN OF LANCASTER the EA...     0  \n",
       "3       KING HENRY IV               So shaken as we are so wan with care     0  \n",
       "4       KING HENRY IV          Find we a time for frighted peace to pant     0  \n",
       "...               ...                                                ...   ...  \n",
       "107902      VALENTINE          Come Proteus tis your penance but to hear     1  \n",
       "107903      VALENTINE                 The story of your loves discovered     1  \n",
       "107904      VALENTINE       That done our day of marriage shall be yours     1  \n",
       "107905      VALENTINE           One feast one house one mutual happiness     1  \n",
       "107906      VALENTINE                                             Exeunt     1  \n",
       "\n",
       "[40532 rows x 7 columns]"
      ]
     },
     "execution_count": 15,
     "metadata": {},
     "output_type": "execute_result"
    }
   ],
   "source": [
    "df_hist_com['Type'] = df_hist_com['Type'].map({\"History\": 0, \"Comedy\": 1})\n",
    "df_hist_com"
   ]
  },
  {
   "cell_type": "code",
   "execution_count": 16,
   "metadata": {},
   "outputs": [
    {
     "data": {
      "text/html": [
       "<div>\n",
       "<style scoped>\n",
       "    .dataframe tbody tr th:only-of-type {\n",
       "        vertical-align: middle;\n",
       "    }\n",
       "\n",
       "    .dataframe tbody tr th {\n",
       "        vertical-align: top;\n",
       "    }\n",
       "\n",
       "    .dataframe thead th {\n",
       "        text-align: right;\n",
       "    }\n",
       "</style>\n",
       "<table border=\"1\" class=\"dataframe\">\n",
       "  <thead>\n",
       "    <tr style=\"text-align: right;\">\n",
       "      <th></th>\n",
       "      <th>Dataline</th>\n",
       "      <th>Play</th>\n",
       "      <th>PlayerLinenumber</th>\n",
       "      <th>ActSceneLine</th>\n",
       "      <th>Player</th>\n",
       "      <th>PlayerLine</th>\n",
       "      <th>Type</th>\n",
       "    </tr>\n",
       "  </thead>\n",
       "  <tbody>\n",
       "    <tr>\n",
       "      <td>0</td>\n",
       "      <td>1</td>\n",
       "      <td>Henry IV</td>\n",
       "      <td>0.0</td>\n",
       "      <td>0</td>\n",
       "      <td>0</td>\n",
       "      <td>ACT I</td>\n",
       "      <td>History</td>\n",
       "    </tr>\n",
       "    <tr>\n",
       "      <td>1</td>\n",
       "      <td>2</td>\n",
       "      <td>Henry IV</td>\n",
       "      <td>0.0</td>\n",
       "      <td>0</td>\n",
       "      <td>0</td>\n",
       "      <td>SCENE I London The palace</td>\n",
       "      <td>History</td>\n",
       "    </tr>\n",
       "    <tr>\n",
       "      <td>2</td>\n",
       "      <td>3</td>\n",
       "      <td>Henry IV</td>\n",
       "      <td>0.0</td>\n",
       "      <td>0</td>\n",
       "      <td>0</td>\n",
       "      <td>Enter KING HENRY LORD JOHN OF LANCASTER the EA...</td>\n",
       "      <td>History</td>\n",
       "    </tr>\n",
       "    <tr>\n",
       "      <td>3</td>\n",
       "      <td>4</td>\n",
       "      <td>Henry IV</td>\n",
       "      <td>1.0</td>\n",
       "      <td>1.1.1</td>\n",
       "      <td>KING HENRY IV</td>\n",
       "      <td>So shaken as we are so wan with care</td>\n",
       "      <td>History</td>\n",
       "    </tr>\n",
       "    <tr>\n",
       "      <td>4</td>\n",
       "      <td>5</td>\n",
       "      <td>Henry IV</td>\n",
       "      <td>1.0</td>\n",
       "      <td>1.1.2</td>\n",
       "      <td>KING HENRY IV</td>\n",
       "      <td>Find we a time for frighted peace to pant</td>\n",
       "      <td>History</td>\n",
       "    </tr>\n",
       "    <tr>\n",
       "      <td>...</td>\n",
       "      <td>...</td>\n",
       "      <td>...</td>\n",
       "      <td>...</td>\n",
       "      <td>...</td>\n",
       "      <td>...</td>\n",
       "      <td>...</td>\n",
       "      <td>...</td>\n",
       "    </tr>\n",
       "    <tr>\n",
       "      <td>99186</td>\n",
       "      <td>99187</td>\n",
       "      <td>Titus Andronicus</td>\n",
       "      <td>43.0</td>\n",
       "      <td>5.3.202</td>\n",
       "      <td>LUCIUS</td>\n",
       "      <td>See justice done on Aaron that damnd Moor</td>\n",
       "      <td>Tragedy</td>\n",
       "    </tr>\n",
       "    <tr>\n",
       "      <td>99187</td>\n",
       "      <td>99188</td>\n",
       "      <td>Titus Andronicus</td>\n",
       "      <td>43.0</td>\n",
       "      <td>5.3.203</td>\n",
       "      <td>LUCIUS</td>\n",
       "      <td>By whom our heavy haps had their beginning</td>\n",
       "      <td>Tragedy</td>\n",
       "    </tr>\n",
       "    <tr>\n",
       "      <td>99188</td>\n",
       "      <td>99189</td>\n",
       "      <td>Titus Andronicus</td>\n",
       "      <td>43.0</td>\n",
       "      <td>5.3.204</td>\n",
       "      <td>LUCIUS</td>\n",
       "      <td>Then afterwards to order well the state</td>\n",
       "      <td>Tragedy</td>\n",
       "    </tr>\n",
       "    <tr>\n",
       "      <td>99189</td>\n",
       "      <td>99190</td>\n",
       "      <td>Titus Andronicus</td>\n",
       "      <td>43.0</td>\n",
       "      <td>5.3.205</td>\n",
       "      <td>LUCIUS</td>\n",
       "      <td>That like events may neer it ruinate</td>\n",
       "      <td>Tragedy</td>\n",
       "    </tr>\n",
       "    <tr>\n",
       "      <td>99190</td>\n",
       "      <td>99191</td>\n",
       "      <td>Titus Andronicus</td>\n",
       "      <td>43.0</td>\n",
       "      <td>0</td>\n",
       "      <td>LUCIUS</td>\n",
       "      <td>Exeunt</td>\n",
       "      <td>Tragedy</td>\n",
       "    </tr>\n",
       "  </tbody>\n",
       "</table>\n",
       "<p>50761 rows × 7 columns</p>\n",
       "</div>"
      ],
      "text/plain": [
       "      Dataline              Play PlayerLinenumber ActSceneLine         Player  \\\n",
       "0            1          Henry IV              0.0            0              0   \n",
       "1            2          Henry IV              0.0            0              0   \n",
       "2            3          Henry IV              0.0            0              0   \n",
       "3            4          Henry IV              1.0        1.1.1  KING HENRY IV   \n",
       "4            5          Henry IV              1.0        1.1.2  KING HENRY IV   \n",
       "...        ...               ...              ...          ...            ...   \n",
       "99186    99187  Titus Andronicus             43.0      5.3.202         LUCIUS   \n",
       "99187    99188  Titus Andronicus             43.0      5.3.203         LUCIUS   \n",
       "99188    99189  Titus Andronicus             43.0      5.3.204         LUCIUS   \n",
       "99189    99190  Titus Andronicus             43.0      5.3.205         LUCIUS   \n",
       "99190    99191  Titus Andronicus             43.0            0         LUCIUS   \n",
       "\n",
       "                                              PlayerLine     Type  \n",
       "0                                                  ACT I  History  \n",
       "1                              SCENE I London The palace  History  \n",
       "2      Enter KING HENRY LORD JOHN OF LANCASTER the EA...  History  \n",
       "3                   So shaken as we are so wan with care  History  \n",
       "4              Find we a time for frighted peace to pant  History  \n",
       "...                                                  ...      ...  \n",
       "99186          See justice done on Aaron that damnd Moor  Tragedy  \n",
       "99187         By whom our heavy haps had their beginning  Tragedy  \n",
       "99188            Then afterwards to order well the state  Tragedy  \n",
       "99189               That like events may neer it ruinate  Tragedy  \n",
       "99190                                             Exeunt  Tragedy  \n",
       "\n",
       "[50761 rows x 7 columns]"
      ]
     },
     "execution_count": 16,
     "metadata": {},
     "output_type": "execute_result"
    }
   ],
   "source": [
    "# Create History-Tragedy DataFrame\n",
    "\n",
    "df_hist_trag = pd.concat([df_history, df_tragedy])\n",
    "df_hist_trag"
   ]
  },
  {
   "cell_type": "code",
   "execution_count": 17,
   "metadata": {},
   "outputs": [
    {
     "data": {
      "text/html": [
       "<div>\n",
       "<style scoped>\n",
       "    .dataframe tbody tr th:only-of-type {\n",
       "        vertical-align: middle;\n",
       "    }\n",
       "\n",
       "    .dataframe tbody tr th {\n",
       "        vertical-align: top;\n",
       "    }\n",
       "\n",
       "    .dataframe thead th {\n",
       "        text-align: right;\n",
       "    }\n",
       "</style>\n",
       "<table border=\"1\" class=\"dataframe\">\n",
       "  <thead>\n",
       "    <tr style=\"text-align: right;\">\n",
       "      <th></th>\n",
       "      <th>Dataline</th>\n",
       "      <th>Play</th>\n",
       "      <th>PlayerLinenumber</th>\n",
       "      <th>ActSceneLine</th>\n",
       "      <th>Player</th>\n",
       "      <th>PlayerLine</th>\n",
       "      <th>Type</th>\n",
       "    </tr>\n",
       "  </thead>\n",
       "  <tbody>\n",
       "    <tr>\n",
       "      <td>0</td>\n",
       "      <td>1</td>\n",
       "      <td>Henry IV</td>\n",
       "      <td>0.0</td>\n",
       "      <td>0</td>\n",
       "      <td>0</td>\n",
       "      <td>ACT I</td>\n",
       "      <td>0</td>\n",
       "    </tr>\n",
       "    <tr>\n",
       "      <td>1</td>\n",
       "      <td>2</td>\n",
       "      <td>Henry IV</td>\n",
       "      <td>0.0</td>\n",
       "      <td>0</td>\n",
       "      <td>0</td>\n",
       "      <td>SCENE I London The palace</td>\n",
       "      <td>0</td>\n",
       "    </tr>\n",
       "    <tr>\n",
       "      <td>2</td>\n",
       "      <td>3</td>\n",
       "      <td>Henry IV</td>\n",
       "      <td>0.0</td>\n",
       "      <td>0</td>\n",
       "      <td>0</td>\n",
       "      <td>Enter KING HENRY LORD JOHN OF LANCASTER the EA...</td>\n",
       "      <td>0</td>\n",
       "    </tr>\n",
       "    <tr>\n",
       "      <td>3</td>\n",
       "      <td>4</td>\n",
       "      <td>Henry IV</td>\n",
       "      <td>1.0</td>\n",
       "      <td>1.1.1</td>\n",
       "      <td>KING HENRY IV</td>\n",
       "      <td>So shaken as we are so wan with care</td>\n",
       "      <td>0</td>\n",
       "    </tr>\n",
       "    <tr>\n",
       "      <td>4</td>\n",
       "      <td>5</td>\n",
       "      <td>Henry IV</td>\n",
       "      <td>1.0</td>\n",
       "      <td>1.1.2</td>\n",
       "      <td>KING HENRY IV</td>\n",
       "      <td>Find we a time for frighted peace to pant</td>\n",
       "      <td>0</td>\n",
       "    </tr>\n",
       "    <tr>\n",
       "      <td>...</td>\n",
       "      <td>...</td>\n",
       "      <td>...</td>\n",
       "      <td>...</td>\n",
       "      <td>...</td>\n",
       "      <td>...</td>\n",
       "      <td>...</td>\n",
       "      <td>...</td>\n",
       "    </tr>\n",
       "    <tr>\n",
       "      <td>107902</td>\n",
       "      <td>107903</td>\n",
       "      <td>Two Gentlemen of Verona</td>\n",
       "      <td>52.0</td>\n",
       "      <td>5.4.177</td>\n",
       "      <td>VALENTINE</td>\n",
       "      <td>Come Proteus tis your penance but to hear</td>\n",
       "      <td>1</td>\n",
       "    </tr>\n",
       "    <tr>\n",
       "      <td>107903</td>\n",
       "      <td>107904</td>\n",
       "      <td>Two Gentlemen of Verona</td>\n",
       "      <td>52.0</td>\n",
       "      <td>5.4.178</td>\n",
       "      <td>VALENTINE</td>\n",
       "      <td>The story of your loves discovered</td>\n",
       "      <td>1</td>\n",
       "    </tr>\n",
       "    <tr>\n",
       "      <td>107904</td>\n",
       "      <td>107905</td>\n",
       "      <td>Two Gentlemen of Verona</td>\n",
       "      <td>52.0</td>\n",
       "      <td>5.4.179</td>\n",
       "      <td>VALENTINE</td>\n",
       "      <td>That done our day of marriage shall be yours</td>\n",
       "      <td>1</td>\n",
       "    </tr>\n",
       "    <tr>\n",
       "      <td>107905</td>\n",
       "      <td>107906</td>\n",
       "      <td>Two Gentlemen of Verona</td>\n",
       "      <td>52.0</td>\n",
       "      <td>5.4.180</td>\n",
       "      <td>VALENTINE</td>\n",
       "      <td>One feast one house one mutual happiness</td>\n",
       "      <td>1</td>\n",
       "    </tr>\n",
       "    <tr>\n",
       "      <td>107906</td>\n",
       "      <td>107907</td>\n",
       "      <td>Two Gentlemen of Verona</td>\n",
       "      <td>52.0</td>\n",
       "      <td>0</td>\n",
       "      <td>VALENTINE</td>\n",
       "      <td>Exeunt</td>\n",
       "      <td>1</td>\n",
       "    </tr>\n",
       "  </tbody>\n",
       "</table>\n",
       "<p>40532 rows × 7 columns</p>\n",
       "</div>"
      ],
      "text/plain": [
       "       Dataline                     Play PlayerLinenumber ActSceneLine  \\\n",
       "0             1                 Henry IV              0.0            0   \n",
       "1             2                 Henry IV              0.0            0   \n",
       "2             3                 Henry IV              0.0            0   \n",
       "3             4                 Henry IV              1.0        1.1.1   \n",
       "4             5                 Henry IV              1.0        1.1.2   \n",
       "...         ...                      ...              ...          ...   \n",
       "107902   107903  Two Gentlemen of Verona             52.0      5.4.177   \n",
       "107903   107904  Two Gentlemen of Verona             52.0      5.4.178   \n",
       "107904   107905  Two Gentlemen of Verona             52.0      5.4.179   \n",
       "107905   107906  Two Gentlemen of Verona             52.0      5.4.180   \n",
       "107906   107907  Two Gentlemen of Verona             52.0            0   \n",
       "\n",
       "               Player                                         PlayerLine  Type  \n",
       "0                   0                                              ACT I     0  \n",
       "1                   0                          SCENE I London The palace     0  \n",
       "2                   0  Enter KING HENRY LORD JOHN OF LANCASTER the EA...     0  \n",
       "3       KING HENRY IV               So shaken as we are so wan with care     0  \n",
       "4       KING HENRY IV          Find we a time for frighted peace to pant     0  \n",
       "...               ...                                                ...   ...  \n",
       "107902      VALENTINE          Come Proteus tis your penance but to hear     1  \n",
       "107903      VALENTINE                 The story of your loves discovered     1  \n",
       "107904      VALENTINE       That done our day of marriage shall be yours     1  \n",
       "107905      VALENTINE           One feast one house one mutual happiness     1  \n",
       "107906      VALENTINE                                             Exeunt     1  \n",
       "\n",
       "[40532 rows x 7 columns]"
      ]
     },
     "execution_count": 17,
     "metadata": {},
     "output_type": "execute_result"
    }
   ],
   "source": [
    "df_hist_trag['Type'] = df_hist_trag['Type'].map({\"History\": 0, \"Tragedy\": 1})\n",
    "df_hist_com"
   ]
  },
  {
   "cell_type": "code",
   "execution_count": 18,
   "metadata": {},
   "outputs": [],
   "source": [
    "# https://subscription.packtpub.com/book/big_data_and_business_intelligence/9781783989485/1/ch01lvl1sec21/using-truncated-svd-to-reduce-dimensionality\n",
    "# http://www.programmersought.com/article/95771313812/"
   ]
  },
  {
   "cell_type": "code",
   "execution_count": 18,
   "metadata": {},
   "outputs": [],
   "source": [
    "# Logistic Regression for History/Comedy\n",
    "X = df_hist_com['PlayerLine']\n",
    "y = df_hist_com['Type']"
   ]
  },
  {
   "cell_type": "code",
   "execution_count": 19,
   "metadata": {},
   "outputs": [
    {
     "data": {
      "text/plain": [
       "((40532,), (40532,))"
      ]
     },
     "execution_count": 19,
     "metadata": {},
     "output_type": "execute_result"
    }
   ],
   "source": [
    "X.shape, y.shape"
   ]
  },
  {
   "cell_type": "code",
   "execution_count": 20,
   "metadata": {},
   "outputs": [
    {
     "data": {
      "text/plain": [
       "1    0.514877\n",
       "0    0.485123\n",
       "Name: Type, dtype: float64"
      ]
     },
     "execution_count": 20,
     "metadata": {},
     "output_type": "execute_result"
    }
   ],
   "source": [
    "y.value_counts(normalize=True) # Baseline is 51/49"
   ]
  },
  {
   "cell_type": "code",
   "execution_count": 21,
   "metadata": {},
   "outputs": [],
   "source": [
    "# Cells for the model below (several) draw on NLP II lecture notebook.\n",
    "# Split the data into the training and testing sets.\n",
    "X_train, X_test, y_train, y_test = train_test_split(X,\n",
    "                                                    y,\n",
    "                                                    test_size=0.33,\n",
    "                                                    random_state=42)"
   ]
  },
  {
   "cell_type": "code",
   "execution_count": 22,
   "metadata": {},
   "outputs": [
    {
     "data": {
      "text/plain": [
       "((27156,), (13376,), (27156,), (13376,))"
      ]
     },
     "execution_count": 22,
     "metadata": {},
     "output_type": "execute_result"
    }
   ],
   "source": [
    "X_train.shape, X_test.shape, y_train.shape, y_test.shape"
   ]
  },
  {
   "cell_type": "code",
   "execution_count": 51,
   "metadata": {},
   "outputs": [],
   "source": [
    "# Logistic Regression\n",
    "\n",
    "cvec_pipe = Pipeline([\n",
    "    ('cvec', CountVectorizer()),\n",
    "    ('sc', StandardScaler(with_mean=False)),\n",
    "    ('log_reg', LogisticRegression(C=1e9,solver='liblinear',penalty='l2')),\n",
    "    ])\n",
    "\n",
    "cvec_parameters = {\n",
    "    'cvec__ngram_range': [(1, 1), (1, 2)],\n",
    "    'cvec__max_features': [100, 500],\n",
    "    'cvec__stop_words': [None, 'english'],\n",
    "    }\n",
    "grid1 = GridSearchCV(cvec_pipe, cvec_parameters, cv=5, verbose=1)\n",
    "\n",
    "\n",
    "tvec_pipe = Pipeline([\n",
    "    ('tvec', TfidfVectorizer()),\n",
    "    ('sc', StandardScaler(with_mean=False)),\n",
    "    ('log_reg', LogisticRegression(C=1e9,solver='liblinear',penalty='l2')),  \n",
    "   ])\n",
    "\n",
    "tvec_parameters = {\n",
    "    'tvec__ngram_range': [(1, 1), (1, 2)],\n",
    "    'tvec__max_features': [100, 500],\n",
    "    'tvec__stop_words': [None, 'english']\n",
    "}\n",
    "grid2 = GridSearchCV(tvec_pipe, tvec_parameters, cv=5, verbose=1)"
   ]
  },
  {
   "cell_type": "code",
   "execution_count": 52,
   "metadata": {
    "scrolled": false
   },
   "outputs": [
    {
     "name": "stdout",
     "output_type": "stream",
     "text": [
      "Fitting 5 folds for each of 8 candidates, totalling 40 fits\n"
     ]
    },
    {
     "name": "stderr",
     "output_type": "stream",
     "text": [
      "[Parallel(n_jobs=1)]: Using backend SequentialBackend with 1 concurrent workers.\n",
      "[Parallel(n_jobs=1)]: Done  40 out of  40 | elapsed:   13.7s finished\n"
     ]
    },
    {
     "name": "stdout",
     "output_type": "stream",
     "text": [
      "0.6309471203417293\n",
      "{'cvec__max_features': 500, 'cvec__ngram_range': (1, 1), 'cvec__stop_words': None}\n"
     ]
    }
   ],
   "source": [
    "grid1.fit(X_train, y_train)\n",
    "print(grid1.best_score_)\n",
    "print(grid1.best_params_)"
   ]
  },
  {
   "cell_type": "code",
   "execution_count": 35,
   "metadata": {},
   "outputs": [
    {
     "data": {
      "text/plain": [
       "(array([1, 1, 1, ..., 1, 1, 1], dtype=int64), (13376,))"
      ]
     },
     "execution_count": 35,
     "metadata": {},
     "output_type": "execute_result"
    }
   ],
   "source": [
    "y_preds1 = grid1.predict(X_test)\n",
    "y_preds1, y_preds1.shape"
   ]
  },
  {
   "cell_type": "code",
   "execution_count": 36,
   "metadata": {
    "scrolled": true
   },
   "outputs": [
    {
     "data": {
      "text/plain": [
       "0.6331489234449761"
      ]
     },
     "execution_count": 36,
     "metadata": {},
     "output_type": "execute_result"
    }
   ],
   "source": [
    "grid1.score(X_test, y_test)"
   ]
  },
  {
   "cell_type": "code",
   "execution_count": 37,
   "metadata": {},
   "outputs": [
    {
     "name": "stdout",
     "output_type": "stream",
     "text": [
      "Logistic Regression predicted probabilities: [[0.72320016 0.27679984]\n",
      " [0.43675803 0.56324197]\n",
      " [0.09586617 0.90413383]\n",
      " [0.34527041 0.65472959]\n",
      " [0.56775385 0.43224615]]\n",
      "Logistic Regression Accuracy Score: 0.6331489234449761\n"
     ]
    }
   ],
   "source": [
    "print(f'Logistic Regression predicted probabilities: {grid1.predict_proba(X_train.head())}')\n",
    "print(f'Logistic Regression Accuracy Score: {grid1.score(X_test, y_test)}')"
   ]
  },
  {
   "cell_type": "code",
   "execution_count": 66,
   "metadata": {},
   "outputs": [
    {
     "data": {
      "image/png": "[encoded data removed]",
      "text/plain": [
       "<Figure size 432x288 with 1 Axes>"
      ]
     },
     "metadata": {
      "needs_background": "light"
     },
     "output_type": "display_data"
    }
   ],
   "source": [
    "import matplotlib.pyplot as plt\n",
    "from sklearn.metrics import roc_curve, auc\n",
    "fpr, tpr, thresholds = roc_curve(y_preds1, y_test)\n",
    "roc_auc = auc(fpr, tpr)\n",
    "\n",
    "plt.figure()\n",
    "plt.plot(fpr, tpr, color='darkorange', label='ROC curve' % roc_auc)\n",
    "plt.plot([0, 1], [0, 1], color='navy', linestyle='--')\n",
    "plt.xlim([0.0, 1.0])\n",
    "plt.ylim([0.0, 1.05])\n",
    "plt.xlabel('False Positive Rate')\n",
    "plt.ylabel('True Positive Rate')\n",
    "plt.title('Receiver operating characteristic')\n",
    "plt.legend(loc=\"lower right\")\n",
    "plt.savefig('ROC_AUC.png')\n",
    "plt.show()"
   ]
  },
  {
   "cell_type": "code",
   "execution_count": 43,
   "metadata": {},
   "outputs": [
    {
     "name": "stdout",
     "output_type": "stream",
     "text": [
      "Fitting 5 folds for each of 8 candidates, totalling 40 fits\n"
     ]
    },
    {
     "name": "stderr",
     "output_type": "stream",
     "text": [
      "[Parallel(n_jobs=1)]: Using backend SequentialBackend with 1 concurrent workers.\n",
      "[Parallel(n_jobs=1)]: Done  40 out of  40 | elapsed:   13.4s finished\n"
     ]
    },
    {
     "data": {
      "text/plain": [
       "{'tvec__max_features': 500,\n",
       " 'tvec__ngram_range': (1, 1),\n",
       " 'tvec__stop_words': None}"
      ]
     },
     "execution_count": 43,
     "metadata": {},
     "output_type": "execute_result"
    }
   ],
   "source": [
    "grid2.fit(X_train, y_train)\n",
    "grid2.best_score_\n",
    "grid2.best_params_"
   ]
  },
  {
   "cell_type": "code",
   "execution_count": 44,
   "metadata": {},
   "outputs": [],
   "source": [
    "y_preds2 = grid2.predict(X_test)"
   ]
  },
  {
   "cell_type": "code",
   "execution_count": 45,
   "metadata": {},
   "outputs": [
    {
     "data": {
      "text/plain": [
       "0.6294856459330144"
      ]
     },
     "execution_count": 45,
     "metadata": {},
     "output_type": "execute_result"
    }
   ],
   "source": [
    "grid2.score(X_test, y_test)"
   ]
  },
  {
   "cell_type": "code",
   "execution_count": 46,
   "metadata": {},
   "outputs": [
    {
     "name": "stdout",
     "output_type": "stream",
     "text": [
      "Logistic Regression predicted probabilities: [[0.72486486 0.27513514]\n",
      " [0.40971544 0.59028456]\n",
      " [0.12036943 0.87963057]\n",
      " [0.25886746 0.74113254]\n",
      " [0.55679442 0.44320558]]\n",
      "Logistic Regression Accuracy Score: 0.6294856459330144\n"
     ]
    }
   ],
   "source": [
    "print(f'Logistic Regression predicted probabilities: {grid2.predict_proba(X_train.head())}')\n",
    "print(f'Logistic Regression Accuracy Score: {grid2.score(X_test, y_test)}')"
   ]
  },
  {
   "cell_type": "code",
   "execution_count": 48,
   "metadata": {},
   "outputs": [
    {
     "name": "stdout",
     "output_type": "stream",
     "text": [
      "Confusion Matrix : \n",
      "[[3595 2881]\n",
      " [2026 4874]]\n"
     ]
    }
   ],
   "source": [
    "#Logistic Regression Classifier Confusion matrix\n",
    "from sklearn.metrics import confusion_matrix\n",
    "print('Confusion Matrix : \\n' + str(confusion_matrix(y_test,y_preds1)))"
   ]
  },
  {
   "cell_type": "code",
   "execution_count": 49,
   "metadata": {},
   "outputs": [
    {
     "name": "stdout",
     "output_type": "stream",
     "text": [
      "Confusion Matrix : \n",
      "[[3705 2771]\n",
      " [2185 4715]]\n"
     ]
    }
   ],
   "source": [
    "#Logistic Regression Classifier Confusion matrix\n",
    "from sklearn.metrics import confusion_matrix\n",
    "print('Confusion Matrix : \\n' + str(confusion_matrix(y_test,y_preds2)))"
   ]
  },
  {
   "cell_type": "code",
   "execution_count": 50,
   "metadata": {},
   "outputs": [
    {
     "data": {
      "image/png": "[encoded data removed]",
      "text/plain": [
       "<Figure size 432x288 with 1 Axes>"
      ]
     },
     "metadata": {
      "needs_background": "light"
     },
     "output_type": "display_data"
    }
   ],
   "source": [
    "import matplotlib.pyplot as plt\n",
    "from sklearn.metrics import roc_curve, auc\n",
    "fpr, tpr, thresholds = roc_curve(y_preds2, y_test)\n",
    "roc_auc = auc(fpr, tpr)\n",
    "\n",
    "plt.figure()\n",
    "plt.plot(fpr, tpr, color='darkorange', label='ROC curve' % roc_auc)\n",
    "plt.plot([0, 1], [0, 1], color='navy', linestyle='--')\n",
    "plt.xlim([0.0, 1.0])\n",
    "plt.ylim([0.0, 1.05])\n",
    "plt.xlabel('False Positive Rate')\n",
    "plt.ylabel('True Positive Rate')\n",
    "plt.title('Receiver operating characteristic')\n",
    "plt.legend(loc=\"lower right\")\n",
    "plt.show()"
   ]
  },
  {
   "cell_type": "code",
   "execution_count": 41,
   "metadata": {},
   "outputs": [],
   "source": [
    "# Logistic Regression for History/Tragedy"
   ]
  },
  {
   "cell_type": "code",
   "execution_count": 42,
   "metadata": {},
   "outputs": [],
   "source": [
    "X = df_hist_trag['PlayerLine']\n",
    "y = df_hist_trag['Type']"
   ]
  },
  {
   "cell_type": "code",
   "execution_count": 43,
   "metadata": {},
   "outputs": [
    {
     "data": {
      "text/plain": [
       "((50761,), (50761,))"
      ]
     },
     "execution_count": 43,
     "metadata": {},
     "output_type": "execute_result"
    }
   ],
   "source": [
    "X.shape, y.shape"
   ]
  },
  {
   "cell_type": "code",
   "execution_count": 44,
   "metadata": {},
   "outputs": [
    {
     "data": {
      "text/plain": [
       "1    0.612636\n",
       "0    0.387364\n",
       "Name: Type, dtype: float64"
      ]
     },
     "execution_count": 44,
     "metadata": {},
     "output_type": "execute_result"
    }
   ],
   "source": [
    "y.value_counts(normalize=True) # Baseline is 61/39"
   ]
  },
  {
   "cell_type": "code",
   "execution_count": 45,
   "metadata": {},
   "outputs": [],
   "source": [
    "# Cells for the model below (several) draw on NLP II lecture notebook.\n",
    "# Split the data into the training and testing sets.\n",
    "X_train, X_test, y_train, y_test = train_test_split(X,\n",
    "                                                    y,\n",
    "                                                    test_size=0.33,\n",
    "                                                    random_state=42)"
   ]
  },
  {
   "cell_type": "code",
   "execution_count": 46,
   "metadata": {},
   "outputs": [
    {
     "data": {
      "text/plain": [
       "((34009,), (16752,), (34009,), (16752,))"
      ]
     },
     "execution_count": 46,
     "metadata": {},
     "output_type": "execute_result"
    }
   ],
   "source": [
    "X_train.shape, X_test.shape, y_train.shape, y_test.shape"
   ]
  },
  {
   "cell_type": "code",
   "execution_count": 112,
   "metadata": {},
   "outputs": [],
   "source": [
    "# Logistic Regression\n",
    "\n",
    "cvec_pipe = Pipeline([\n",
    "    ('cvec', CountVectorizer()),\n",
    "    ('log_reg', LogisticRegression(C=1e9,solver = 'liblinear')),\n",
    "    ])\n",
    "\n",
    "cvec_parameters = {\n",
    "    'cvec__ngram_range': [(1, 1), (1, 2)],\n",
    "    'cvec__max_features': [100, 500],\n",
    "    'cvec__stop_words': [None, 'english'],\n",
    "    }\n",
    "grid3 = GridSearchCV(cvec_pipe, cvec_parameters, cv=5, verbose=1)\n",
    "\n",
    "\n",
    "tfid_pipe = Pipeline([\n",
    "    ('tvec', TfidfVectorizer()),\n",
    "    ('log_reg', LogisticRegression(C=1e9,solver = 'liblinear')),\n",
    "    ])\n",
    "tvec_parameters = {\n",
    "    'tvec__ngram_range': [(1, 1), (1, 2)],\n",
    "    'tvec__max_features': [100, 500],\n",
    "    'tvec__stop_words': [None, 'english']\n",
    "}\n",
    "grid4 = GridSearchCV(tfid_pipe, tvec_parameters, cv=5, verbose=1)"
   ]
  },
  {
   "cell_type": "code",
   "execution_count": 113,
   "metadata": {},
   "outputs": [
    {
     "name": "stdout",
     "output_type": "stream",
     "text": [
      "Fitting 5 folds for each of 8 candidates, totalling 40 fits\n"
     ]
    },
    {
     "name": "stderr",
     "output_type": "stream",
     "text": [
      "[Parallel(n_jobs=1)]: Using backend SequentialBackend with 1 concurrent workers.\n",
      "[Parallel(n_jobs=1)]: Done  40 out of  40 | elapsed:   33.1s finished\n"
     ]
    },
    {
     "name": "stdout",
     "output_type": "stream",
     "text": [
      "0.6629127583874856\n",
      "{'cvec__max_features': 500, 'cvec__ngram_range': (1, 1), 'cvec__stop_words': 'english'}\n"
     ]
    }
   ],
   "source": [
    "grid3.fit(X_train, y_train)\n",
    "print(grid3.best_score_)\n",
    "print(grid3.best_params_)"
   ]
  },
  {
   "cell_type": "code",
   "execution_count": 114,
   "metadata": {},
   "outputs": [
    {
     "data": {
      "text/plain": [
       "array([1, 1, 0, ..., 1, 1, 1], dtype=int64)"
      ]
     },
     "execution_count": 114,
     "metadata": {},
     "output_type": "execute_result"
    }
   ],
   "source": [
    "y_preds3 = grid3.predict(X_test)\n",
    "y_preds3"
   ]
  },
  {
   "cell_type": "code",
   "execution_count": 119,
   "metadata": {},
   "outputs": [
    {
     "data": {
      "text/plain": [
       "0.6556232091690545"
      ]
     },
     "execution_count": 119,
     "metadata": {},
     "output_type": "execute_result"
    }
   ],
   "source": [
    "grid3.score(X_test, y_test)"
   ]
  },
  {
   "cell_type": "code",
   "execution_count": 120,
   "metadata": {},
   "outputs": [
    {
     "name": "stdout",
     "output_type": "stream",
     "text": [
      "Confusion Matrix : \n",
      "[[1753 4790]\n",
      " [ 979 9230]]\n"
     ]
    }
   ],
   "source": [
    "#Logistic Regression Classifier Confusion matrix\n",
    "from sklearn.metrics import confusion_matrix\n",
    "print('Confusion Matrix : \\n' + str(confusion_matrix(y_test,y_preds3)))"
   ]
  },
  {
   "cell_type": "code",
   "execution_count": 121,
   "metadata": {},
   "outputs": [
    {
     "data": {
      "image/png": "[encoded data removed]",
      "text/plain": [
       "<Figure size 432x288 with 1 Axes>"
      ]
     },
     "metadata": {
      "needs_background": "light"
     },
     "output_type": "display_data"
    }
   ],
   "source": [
    "import matplotlib.pyplot as plt\n",
    "from sklearn.metrics import roc_curve, auc\n",
    "fpr, tpr, thresholds = roc_curve(y_preds3, y_test)\n",
    "roc_auc = auc(fpr, tpr)\n",
    "\n",
    "plt.figure()\n",
    "plt.plot(fpr, tpr, color='darkorange', label='ROC curve' % roc_auc)\n",
    "plt.plot([0, 1], [0, 1], color='navy', linestyle='--')\n",
    "plt.xlim([0.0, 1.0])\n",
    "plt.ylim([0.0, 1.05])\n",
    "plt.xlabel('False Positive Rate')\n",
    "plt.ylabel('True Positive Rate')\n",
    "plt.title('Receiver operating characteristic')\n",
    "plt.legend(loc=\"lower right\")\n",
    "plt.show()"
   ]
  },
  {
   "cell_type": "code",
   "execution_count": 122,
   "metadata": {},
   "outputs": [
    {
     "name": "stdout",
     "output_type": "stream",
     "text": [
      "Fitting 5 folds for each of 8 candidates, totalling 40 fits\n"
     ]
    },
    {
     "name": "stderr",
     "output_type": "stream",
     "text": [
      "[Parallel(n_jobs=1)]: Using backend SequentialBackend with 1 concurrent workers.\n",
      "[Parallel(n_jobs=1)]: Done  40 out of  40 | elapsed:   35.5s finished\n"
     ]
    },
    {
     "name": "stdout",
     "output_type": "stream",
     "text": [
      "0.6611779234908407\n",
      "{'tvec__max_features': 500, 'tvec__ngram_range': (1, 1), 'tvec__stop_words': 'english'}\n"
     ]
    }
   ],
   "source": [
    "grid4.fit(X_train, y_train)\n",
    "print(grid4.best_score_)\n",
    "print(grid4.best_params_)"
   ]
  },
  {
   "cell_type": "code",
   "execution_count": 123,
   "metadata": {},
   "outputs": [
    {
     "data": {
      "text/plain": [
       "array([1, 1, 0, ..., 1, 1, 1], dtype=int64)"
      ]
     },
     "execution_count": 123,
     "metadata": {},
     "output_type": "execute_result"
    }
   ],
   "source": [
    "y_preds4 = grid4.predict(X_test)\n",
    "y_preds4"
   ]
  },
  {
   "cell_type": "code",
   "execution_count": 124,
   "metadata": {},
   "outputs": [
    {
     "data": {
      "text/plain": [
       "0.6566977077363897"
      ]
     },
     "execution_count": 124,
     "metadata": {},
     "output_type": "execute_result"
    }
   ],
   "source": [
    "grid4.score(X_test, y_test)"
   ]
  },
  {
   "cell_type": "code",
   "execution_count": 125,
   "metadata": {},
   "outputs": [
    {
     "data": {
      "text/plain": [
       "0.6566977077363897"
      ]
     },
     "execution_count": 125,
     "metadata": {},
     "output_type": "execute_result"
    }
   ],
   "source": [
    "accuracy_score(y_test, y_preds4)"
   ]
  },
  {
   "cell_type": "code",
   "execution_count": 126,
   "metadata": {},
   "outputs": [
    {
     "name": "stdout",
     "output_type": "stream",
     "text": [
      "Confusion Matrix : \n",
      "[[1859 4684]\n",
      " [1067 9142]]\n"
     ]
    }
   ],
   "source": [
    "#Logistic Regression Classifier Confusion matrix\n",
    "from sklearn.metrics import confusion_matrix\n",
    "print('Confusion Matrix : \\n' + str(confusion_matrix(y_test,y_preds4)))"
   ]
  },
  {
   "cell_type": "code",
   "execution_count": 127,
   "metadata": {},
   "outputs": [
    {
     "data": {
      "image/png": "[encoded data removed]",
      "text/plain": [
       "<Figure size 432x288 with 1 Axes>"
      ]
     },
     "metadata": {
      "needs_background": "light"
     },
     "output_type": "display_data"
    }
   ],
   "source": [
    "import matplotlib.pyplot as plt\n",
    "from sklearn.metrics import roc_curve, auc\n",
    "fpr, tpr, thresholds = roc_curve(y_preds4, y_test)\n",
    "roc_auc = auc(fpr, tpr)\n",
    "\n",
    "plt.figure()\n",
    "plt.plot(fpr, tpr, color='darkorange', label='ROC curve' % roc_auc)\n",
    "plt.plot([0, 1], [0, 1], color='navy', linestyle='--')\n",
    "plt.xlim([0.0, 1.0])\n",
    "plt.ylim([0.0, 1.05])\n",
    "plt.xlabel('False Positive Rate')\n",
    "plt.ylabel('True Positive Rate')\n",
    "plt.title('Receiver operating characteristic')\n",
    "plt.legend(loc=\"lower right\")\n",
    "plt.show()"
   ]
  },
  {
   "cell_type": "markdown",
   "metadata": {},
   "source": [
    "**Support Vector Classifier**"
   ]
  },
  {
   "cell_type": "code",
   "execution_count": 130,
   "metadata": {},
   "outputs": [],
   "source": [
    "from sklearn import datasets\n",
    "from sklearn.svm import SVC\n",
    "from sklearn.model_selection import train_test_split"
   ]
  },
  {
   "cell_type": "code",
   "execution_count": 131,
   "metadata": {},
   "outputs": [],
   "source": [
    "X = df_hist_com['PlayerLine']\n",
    "y = df_hist_com['Type']"
   ]
  },
  {
   "cell_type": "code",
   "execution_count": 132,
   "metadata": {},
   "outputs": [
    {
     "data": {
      "text/plain": [
       "1    0.514877\n",
       "0    0.485123\n",
       "Name: Type, dtype: float64"
      ]
     },
     "execution_count": 132,
     "metadata": {},
     "output_type": "execute_result"
    }
   ],
   "source": [
    "y.value_counts(normalize=True) # Baseline is 51/49"
   ]
  },
  {
   "cell_type": "code",
   "execution_count": 133,
   "metadata": {},
   "outputs": [],
   "source": [
    "# Train/Test Split.\n",
    "X_train, X_test, y_train, y_test = train_test_split(\n",
    "    X,\n",
    "    y,\n",
    "    test_size=0.33,\n",
    "    random_state=42\n",
    ")"
   ]
  },
  {
   "cell_type": "code",
   "execution_count": 63,
   "metadata": {},
   "outputs": [],
   "source": [
    "cvec_pipe = Pipeline([\n",
    "    ('cvec', CountVectorizer()),\n",
    "    ('SVM', SVC(kernel='poly',C=50,gamma='scale')),\n",
    "    ])\n",
    "\n",
    "cvec_parameters = {\n",
    "    }\n",
    "    \n",
    "grid_svc1 = GridSearchCV(cvec_pipe, cvec_parameters, cv=5, verbose=1)\n",
    "\n",
    "tfid_pipe = Pipeline([\n",
    "    ('tvec', TfidfVectorizer()),\n",
    "    ('SVM', SVC(kernel='poly',C=50,gamma='scale')),\n",
    "    ])\n",
    "tvec_parameters = {\n",
    "    }\n",
    "grid_svc2 = GridSearchCV(tfid_pipe, tvec_parameters, cv=5, verbose=1)"
   ]
  },
  {
   "cell_type": "code",
   "execution_count": 64,
   "metadata": {},
   "outputs": [
    {
     "data": {
      "text/plain": [
       "{}"
      ]
     },
     "execution_count": 64,
     "metadata": {},
     "output_type": "execute_result"
    }
   ],
   "source": [
    "grid_svc1 = GridSearchCV(cvec_pipe, cvec_parameters, cv=5)\n",
    "grid_svc1.fit(X_train, y_train)\n",
    "grid_svc1.best_score_\n",
    "grid_svc1.best_params_"
   ]
  },
  {
   "cell_type": "code",
   "execution_count": 65,
   "metadata": {},
   "outputs": [
    {
     "name": "stdout",
     "output_type": "stream",
     "text": [
      "SVC Predicted Values: [0 1 1 ... 1 1 0]\n",
      "SVC Accuracy Score: 0.6293361244019139\n"
     ]
    }
   ],
   "source": [
    "print(f'SVC Predicted Values: {grid_svc1.predict(X_train)}')\n",
    "print(f'SVC Accuracy Score: {grid_svc1.score(X_test, y_test)}')"
   ]
  },
  {
   "cell_type": "code",
   "execution_count": 140,
   "metadata": {},
   "outputs": [
    {
     "name": "stderr",
     "output_type": "stream",
     "text": [
      "C:\\ProgramData\\Anaconda3\\lib\\site-packages\\sklearn\\svm\\base.py:193: FutureWarning: The default value of gamma will change from 'auto' to 'scale' in version 0.22 to account better for unscaled features. Set gamma explicitly to 'auto' or 'scale' to avoid this warning.\n",
      "  \"avoid this warning.\", FutureWarning)\n",
      "C:\\ProgramData\\Anaconda3\\lib\\site-packages\\sklearn\\svm\\base.py:193: FutureWarning: The default value of gamma will change from 'auto' to 'scale' in version 0.22 to account better for unscaled features. Set gamma explicitly to 'auto' or 'scale' to avoid this warning.\n",
      "  \"avoid this warning.\", FutureWarning)\n",
      "C:\\ProgramData\\Anaconda3\\lib\\site-packages\\sklearn\\svm\\base.py:193: FutureWarning: The default value of gamma will change from 'auto' to 'scale' in version 0.22 to account better for unscaled features. Set gamma explicitly to 'auto' or 'scale' to avoid this warning.\n",
      "  \"avoid this warning.\", FutureWarning)\n",
      "C:\\ProgramData\\Anaconda3\\lib\\site-packages\\sklearn\\svm\\base.py:193: FutureWarning: The default value of gamma will change from 'auto' to 'scale' in version 0.22 to account better for unscaled features. Set gamma explicitly to 'auto' or 'scale' to avoid this warning.\n",
      "  \"avoid this warning.\", FutureWarning)\n",
      "C:\\ProgramData\\Anaconda3\\lib\\site-packages\\sklearn\\svm\\base.py:193: FutureWarning: The default value of gamma will change from 'auto' to 'scale' in version 0.22 to account better for unscaled features. Set gamma explicitly to 'auto' or 'scale' to avoid this warning.\n",
      "  \"avoid this warning.\", FutureWarning)\n",
      "C:\\ProgramData\\Anaconda3\\lib\\site-packages\\sklearn\\svm\\base.py:193: FutureWarning: The default value of gamma will change from 'auto' to 'scale' in version 0.22 to account better for unscaled features. Set gamma explicitly to 'auto' or 'scale' to avoid this warning.\n",
      "  \"avoid this warning.\", FutureWarning)\n"
     ]
    },
    {
     "data": {
      "text/plain": [
       "{}"
      ]
     },
     "execution_count": 140,
     "metadata": {},
     "output_type": "execute_result"
    }
   ],
   "source": [
    "grid_svc2 = GridSearchCV(cvec_pipe, cvec_parameters, cv=5)\n",
    "grid_svc2.fit(X_train, y_train)\n",
    "grid_svc2.best_score_\n",
    "grid_svc2.best_params_"
   ]
  },
  {
   "cell_type": "code",
   "execution_count": 137,
   "metadata": {},
   "outputs": [
    {
     "name": "stdout",
     "output_type": "stream",
     "text": [
      "SVC predicted values: [1 1 1 ... 1 1 1]\n",
      "SVC Accuracy Score: 0.5158492822966507\n"
     ]
    }
   ],
   "source": [
    "print(f'SVC predicted values: {grid_svc2.predict(X_train)}')\n",
    "print(f'SVC Accuracy Score: {grid_svc2.score(X_test, y_test)}')"
   ]
  },
  {
   "cell_type": "code",
   "execution_count": 82,
   "metadata": {},
   "outputs": [],
   "source": [
    "X = df_hist_trag['PlayerLine']\n",
    "y = df_hist_trag['Type']"
   ]
  },
  {
   "cell_type": "code",
   "execution_count": 81,
   "metadata": {},
   "outputs": [
    {
     "data": {
      "text/plain": [
       "1    0.612636\n",
       "0    0.387364\n",
       "Name: Type, dtype: float64"
      ]
     },
     "execution_count": 81,
     "metadata": {},
     "output_type": "execute_result"
    }
   ],
   "source": [
    "y.value_counts(normalize=True)"
   ]
  },
  {
   "cell_type": "code",
   "execution_count": 83,
   "metadata": {},
   "outputs": [],
   "source": [
    "# Train/Test Split.\n",
    "X_train, X_test, y_train, y_test = train_test_split(\n",
    "    X,\n",
    "    y,\n",
    "    test_size=0.33,\n",
    "    random_state=42\n",
    ")"
   ]
  },
  {
   "cell_type": "code",
   "execution_count": 138,
   "metadata": {},
   "outputs": [],
   "source": [
    "cvec_pipe = Pipeline([\n",
    "    ('cvec', CountVectorizer()),\n",
    "    ('SVM', SVC()),\n",
    "    ])\n",
    "\n",
    "cvec_parameters = {\n",
    "    }\n",
    "    \n",
    "grid_svc3 = GridSearchCV(cvec_pipe, cvec_parameters, cv=5, verbose=1)\n",
    "\n",
    "tfid_pipe = Pipeline([\n",
    "    ('tvec', TfidfVectorizer()),\n",
    "    ('SVM', SVC()),\n",
    "    ])\n",
    "tvec_parameters = {\n",
    "    }\n",
    "grid_svc4 = GridSearchCV(tfid_pipe, tvec_parameters, cv=5, verbose=1)"
   ]
  },
  {
   "cell_type": "code",
   "execution_count": 139,
   "metadata": {},
   "outputs": [
    {
     "name": "stderr",
     "output_type": "stream",
     "text": [
      "C:\\ProgramData\\Anaconda3\\lib\\site-packages\\sklearn\\svm\\base.py:193: FutureWarning: The default value of gamma will change from 'auto' to 'scale' in version 0.22 to account better for unscaled features. Set gamma explicitly to 'auto' or 'scale' to avoid this warning.\n",
      "  \"avoid this warning.\", FutureWarning)\n",
      "C:\\ProgramData\\Anaconda3\\lib\\site-packages\\sklearn\\svm\\base.py:193: FutureWarning: The default value of gamma will change from 'auto' to 'scale' in version 0.22 to account better for unscaled features. Set gamma explicitly to 'auto' or 'scale' to avoid this warning.\n",
      "  \"avoid this warning.\", FutureWarning)\n",
      "C:\\ProgramData\\Anaconda3\\lib\\site-packages\\sklearn\\svm\\base.py:193: FutureWarning: The default value of gamma will change from 'auto' to 'scale' in version 0.22 to account better for unscaled features. Set gamma explicitly to 'auto' or 'scale' to avoid this warning.\n",
      "  \"avoid this warning.\", FutureWarning)\n",
      "C:\\ProgramData\\Anaconda3\\lib\\site-packages\\sklearn\\svm\\base.py:193: FutureWarning: The default value of gamma will change from 'auto' to 'scale' in version 0.22 to account better for unscaled features. Set gamma explicitly to 'auto' or 'scale' to avoid this warning.\n",
      "  \"avoid this warning.\", FutureWarning)\n",
      "C:\\ProgramData\\Anaconda3\\lib\\site-packages\\sklearn\\svm\\base.py:193: FutureWarning: The default value of gamma will change from 'auto' to 'scale' in version 0.22 to account better for unscaled features. Set gamma explicitly to 'auto' or 'scale' to avoid this warning.\n",
      "  \"avoid this warning.\", FutureWarning)\n",
      "C:\\ProgramData\\Anaconda3\\lib\\site-packages\\sklearn\\svm\\base.py:193: FutureWarning: The default value of gamma will change from 'auto' to 'scale' in version 0.22 to account better for unscaled features. Set gamma explicitly to 'auto' or 'scale' to avoid this warning.\n",
      "  \"avoid this warning.\", FutureWarning)\n"
     ]
    },
    {
     "data": {
      "text/plain": [
       "{}"
      ]
     },
     "execution_count": 139,
     "metadata": {},
     "output_type": "execute_result"
    }
   ],
   "source": [
    "grid_svc3 = GridSearchCV(cvec_pipe, cvec_parameters, cv=5)\n",
    "grid_svc3.fit(X_train, y_train)\n",
    "grid_svc3.best_score_\n",
    "grid_svc3.best_params_"
   ]
  },
  {
   "cell_type": "code",
   "execution_count": 86,
   "metadata": {},
   "outputs": [
    {
     "name": "stdout",
     "output_type": "stream",
     "text": [
      "SVC Score: [1 1 1 ... 1 1 1]\n",
      "SVC Accuracy Score: 0.609419770773639\n"
     ]
    }
   ],
   "source": [
    "print(f'SVC Score: {grid_svc3.predict(X_train)}')\n",
    "print(f'SVC Accuracy Score: {grid_svc3.score(X_test, y_test)}')"
   ]
  },
  {
   "cell_type": "code",
   "execution_count": 87,
   "metadata": {},
   "outputs": [
    {
     "data": {
      "image/png": "[encoded data removed]",
      "text/plain": [
       "<Figure size 432x288 with 1 Axes>"
      ]
     },
     "metadata": {
      "needs_background": "light"
     },
     "output_type": "display_data"
    }
   ],
   "source": [
    "import matplotlib.pyplot as plt\n",
    "from sklearn.metrics import roc_curve, auc\n",
    "fpr, tpr, thresholds = roc_curve(y_preds3, y_test)\n",
    "roc_auc = auc(fpr, tpr)\n",
    "\n",
    "plt.figure()\n",
    "plt.plot(fpr, tpr, color='darkorange', label='ROC curve' % roc_auc)\n",
    "plt.plot([0, 1], [0, 1], color='navy', linestyle='--')\n",
    "plt.xlim([0.0, 1.0])\n",
    "plt.ylim([0.0, 1.05])\n",
    "plt.xlabel('False Positive Rate')\n",
    "plt.ylabel('True Positive Rate')\n",
    "plt.title('Receiver operating characteristic')\n",
    "plt.legend(loc=\"lower right\")\n",
    "plt.show()"
   ]
  },
  {
   "cell_type": "code",
   "execution_count": 88,
   "metadata": {},
   "outputs": [
    {
     "name": "stderr",
     "output_type": "stream",
     "text": [
      "C:\\ProgramData\\Anaconda3\\lib\\site-packages\\sklearn\\svm\\base.py:193: FutureWarning: The default value of gamma will change from 'auto' to 'scale' in version 0.22 to account better for unscaled features. Set gamma explicitly to 'auto' or 'scale' to avoid this warning.\n",
      "  \"avoid this warning.\", FutureWarning)\n",
      "C:\\ProgramData\\Anaconda3\\lib\\site-packages\\sklearn\\svm\\base.py:193: FutureWarning: The default value of gamma will change from 'auto' to 'scale' in version 0.22 to account better for unscaled features. Set gamma explicitly to 'auto' or 'scale' to avoid this warning.\n",
      "  \"avoid this warning.\", FutureWarning)\n",
      "C:\\ProgramData\\Anaconda3\\lib\\site-packages\\sklearn\\svm\\base.py:193: FutureWarning: The default value of gamma will change from 'auto' to 'scale' in version 0.22 to account better for unscaled features. Set gamma explicitly to 'auto' or 'scale' to avoid this warning.\n",
      "  \"avoid this warning.\", FutureWarning)\n",
      "C:\\ProgramData\\Anaconda3\\lib\\site-packages\\sklearn\\svm\\base.py:193: FutureWarning: The default value of gamma will change from 'auto' to 'scale' in version 0.22 to account better for unscaled features. Set gamma explicitly to 'auto' or 'scale' to avoid this warning.\n",
      "  \"avoid this warning.\", FutureWarning)\n",
      "C:\\ProgramData\\Anaconda3\\lib\\site-packages\\sklearn\\svm\\base.py:193: FutureWarning: The default value of gamma will change from 'auto' to 'scale' in version 0.22 to account better for unscaled features. Set gamma explicitly to 'auto' or 'scale' to avoid this warning.\n",
      "  \"avoid this warning.\", FutureWarning)\n",
      "C:\\ProgramData\\Anaconda3\\lib\\site-packages\\sklearn\\svm\\base.py:193: FutureWarning: The default value of gamma will change from 'auto' to 'scale' in version 0.22 to account better for unscaled features. Set gamma explicitly to 'auto' or 'scale' to avoid this warning.\n",
      "  \"avoid this warning.\", FutureWarning)\n"
     ]
    },
    {
     "data": {
      "text/plain": [
       "{}"
      ]
     },
     "execution_count": 88,
     "metadata": {},
     "output_type": "execute_result"
    }
   ],
   "source": [
    "grid_svc4 = GridSearchCV(cvec_pipe, cvec_parameters, cv=5)\n",
    "grid_svc4.fit(X_train, y_train)\n",
    "grid_svc4.best_params_"
   ]
  },
  {
   "cell_type": "code",
   "execution_count": 89,
   "metadata": {},
   "outputs": [
    {
     "name": "stdout",
     "output_type": "stream",
     "text": [
      "SVC Score: [1 1 1 ... 1 1 1]\n",
      "SVC Accuracy Score: 0.609419770773639\n"
     ]
    }
   ],
   "source": [
    "print(f'SVC Score: {grid_svc4.predict(X_train)}')\n",
    "print(f'SVC Accuracy Score: {grid_svc4.score(X_test, y_test)}')"
   ]
  },
  {
   "cell_type": "code",
   "execution_count": 90,
   "metadata": {},
   "outputs": [
    {
     "data": {
      "image/png": "[encoded data removed]",
      "text/plain": [
       "<Figure size 432x288 with 1 Axes>"
      ]
     },
     "metadata": {
      "needs_background": "light"
     },
     "output_type": "display_data"
    }
   ],
   "source": [
    "import matplotlib.pyplot as plt\n",
    "from sklearn.metrics import roc_curve, auc\n",
    "fpr, tpr, thresholds = roc_curve(y_preds4, y_test)\n",
    "roc_auc = auc(fpr, tpr)\n",
    "\n",
    "plt.figure()\n",
    "plt.plot(fpr, tpr, color='darkorange', label='ROC curve' % roc_auc)\n",
    "plt.plot([0, 1], [0, 1], color='navy', linestyle='--')\n",
    "plt.xlim([0.0, 1.0])\n",
    "plt.ylim([0.0, 1.05])\n",
    "plt.xlabel('False Positive Rate')\n",
    "plt.ylabel('True Positive Rate')\n",
    "plt.title('Receiver operating characteristic')\n",
    "plt.legend(loc=\"lower right\")\n",
    "plt.show()"
   ]
  },
  {
   "cell_type": "markdown",
   "metadata": {},
   "source": [
    "**K Nearest Neighbors**"
   ]
  },
  {
   "cell_type": "code",
   "execution_count": null,
   "metadata": {},
   "outputs": [],
   "source": [
    "X = df_hist_com['PlayerLine']\n",
    "y = df_hist_com['Type']"
   ]
  },
  {
   "cell_type": "code",
   "execution_count": null,
   "metadata": {},
   "outputs": [],
   "source": [
    "y.value_counts(normalize=True)"
   ]
  },
  {
   "cell_type": "code",
   "execution_count": null,
   "metadata": {},
   "outputs": [],
   "source": [
    "# Train/Test Split.\n",
    "X_train, X_test, y_train, y_test = train_test_split(\n",
    "    X,\n",
    "    y,\n",
    "    test_size=0.33,\n",
    "    random_state=42\n",
    ")"
   ]
  },
  {
   "cell_type": "code",
   "execution_count": null,
   "metadata": {},
   "outputs": [],
   "source": [
    "cvec_pipe = Pipeline([\n",
    "    ('cvec', CountVectorizer()),\n",
    "    ('KNN', KNeighborsClassifier(n_neighbors=5, weights='distance', metric='manhattan')),\n",
    "    ])\n",
    "\n",
    "cvec_parameters = {\n",
    "    }\n",
    "\n",
    "    \n",
    "grid_KNN1 = GridSearchCV(cvec_pipe, cvec_parameters, cv=5, verbose=1)\n",
    "\n",
    "tfid_pipe = Pipeline([\n",
    "    ('tvec', TfidfVectorizer()),\n",
    "    ('KNN', KNeighborsClassifier(n_neighbors=5, weights='distance', metric='manhattan'))),\n",
    "    ])\n",
    "\n",
    "tvec_parameters = {\n",
    "    }\n",
    "\n",
    "grid_KNN2 = GridSearchCV(tfid_pipe, tvec_parameters, cv=5, verbose=1)"
   ]
  },
  {
   "cell_type": "code",
   "execution_count": null,
   "metadata": {},
   "outputs": [],
   "source": [
    "grid_KNN1 = GridSearchCV(cvec_pipe, cvec_parameters, cv=5)\n",
    "grid_KNN1.fit(X_train, y_train)\n",
    "grid_KNN1.best_params_"
   ]
  },
  {
   "cell_type": "code",
   "execution_count": null,
   "metadata": {},
   "outputs": [],
   "source": [
    "print(f'KNN Train Score: {grid_KNN1.predict(X_train)}')\n",
    "print(f'KNN Test Score: {grid_KNN1.predict(X_test)}')\n",
    "print(f'KNN Accuracy Score: {grid_KNN1.score(X_test, y_test)}')"
   ]
  },
  {
   "cell_type": "code",
   "execution_count": null,
   "metadata": {},
   "outputs": [],
   "source": [
    "grid_KNN2 = GridSearchCV(cvec_pipe, cvec_parameters, cv=5)\n",
    "grid_KNN2.fit(X_train, y_train)\n",
    "grid_KNN2.best_params_"
   ]
  },
  {
   "cell_type": "code",
   "execution_count": null,
   "metadata": {},
   "outputs": [],
   "source": [
    "print(f'KNN Train Score: {grid_KNN2.predict(X_train)}')\n",
    "print(f'KNN Test Score: {grid_KNN2.predict(X_train)}')\n",
    "print(f'KNN Accuracy Score: {grid_KNN2.score(X_test, y_test)}')"
   ]
  },
  {
   "cell_type": "code",
   "execution_count": null,
   "metadata": {},
   "outputs": [],
   "source": [
    "X = df_hist_trag['PlayerLine']\n",
    "y = df_hist_trag['Type']"
   ]
  },
  {
   "cell_type": "code",
   "execution_count": null,
   "metadata": {},
   "outputs": [],
   "source": [
    "y.value_counts(normalize=True)"
   ]
  },
  {
   "cell_type": "code",
   "execution_count": null,
   "metadata": {},
   "outputs": [],
   "source": [
    "# Train/Test Split.\n",
    "X_train, X_test, y_train, y_test = train_test_split(\n",
    "    X,\n",
    "    y,\n",
    "    test_size=0.33,\n",
    "    random_state=42\n",
    ")"
   ]
  },
  {
   "cell_type": "code",
   "execution_count": null,
   "metadata": {},
   "outputs": [],
   "source": [
    "cvec_pipe = Pipeline([\n",
    "    ('cvec', CountVectorizer()),\n",
    "    ('KNN', KNeighborsClassifier()),\n",
    "    ])\n",
    "\n",
    "cvec_parameters = {\n",
    "    }\n",
    "    \n",
    "grid_KNN3 = GridSearchCV(cvec_pipe, cvec_parameters, cv=5, verbose=1)\n",
    "\n",
    "tfid_pipe = Pipeline([\n",
    "    ('tvec', TfidfVectorizer()),\n",
    "    ('KNN', KNeighborsClassifier()),\n",
    "    ])\n",
    "tvec_parameters = {\n",
    "    }\n",
    "grid_KNN4 = GridSearchCV(tfid_pipe, tvec_parameters, cv=5, verbose=1)"
   ]
  },
  {
   "cell_type": "code",
   "execution_count": null,
   "metadata": {},
   "outputs": [],
   "source": [
    "grid_KNN3 = GridSearchCV(cvec_pipe, cvec_parameters, cv=5)\n",
    "grid_KNN3.fit(X_train, y_train)\n",
    "grid_KNN3.best_params_"
   ]
  },
  {
   "cell_type": "code",
   "execution_count": null,
   "metadata": {},
   "outputs": [],
   "source": [
    "print(f'KNN Score: {grid_KNN3.predict(X_train)}')\n",
    "print(f'KNN Test Score: {grid_KNN3.predict(X_test)}')\n",
    "print(f'KNN Accuracy Score: {grid_KNN3.score(X_test, y_test)}')"
   ]
  },
  {
   "cell_type": "code",
   "execution_count": null,
   "metadata": {},
   "outputs": [],
   "source": [
    "grid_KNN4 = GridSearchCV(cvec_pipe, cvec_parameters, cv=5)\n",
    "grid_KNN4.fit(X_train, y_train)\n",
    "grid_KNN4.best_params_"
   ]
  },
  {
   "cell_type": "code",
   "execution_count": null,
   "metadata": {},
   "outputs": [],
   "source": [
    "print(f'KNN Train Score: {grid_KNN4.predict(X_train)}')\n",
    "print(f'KNN Test Score: {grid_KNN4.predict(X_test)}')\n",
    "print(f'KNN Accuracy Score: {grid_KNN4.score(X_test, y_test)}')"
   ]
  },
  {
   "cell_type": "markdown",
   "metadata": {},
   "source": [
    "**Random Forest**"
   ]
  },
  {
   "cell_type": "code",
   "execution_count": 67,
   "metadata": {},
   "outputs": [],
   "source": [
    "X = df_hist_com['PlayerLine']\n",
    "y = df_hist_com['Type']"
   ]
  },
  {
   "cell_type": "code",
   "execution_count": 68,
   "metadata": {},
   "outputs": [
    {
     "data": {
      "text/plain": [
       "1    0.514877\n",
       "0    0.485123\n",
       "Name: Type, dtype: float64"
      ]
     },
     "execution_count": 68,
     "metadata": {},
     "output_type": "execute_result"
    }
   ],
   "source": [
    "y.value_counts(normalize=True)"
   ]
  },
  {
   "cell_type": "code",
   "execution_count": 69,
   "metadata": {},
   "outputs": [],
   "source": [
    "# Train/Test Split.\n",
    "X_train, X_test, y_train, y_test = train_test_split(\n",
    "    X,\n",
    "    y,\n",
    "    test_size=0.33,\n",
    "    random_state=42\n",
    ")"
   ]
  },
  {
   "cell_type": "code",
   "execution_count": 77,
   "metadata": {},
   "outputs": [],
   "source": [
    "cvec_pipe = Pipeline([\n",
    "    ('cvec', CountVectorizer()),\n",
    "    ('RF', RandomForestClassifier(n_estimators= 'warn',\n",
    "    max_features= 'auto',\n",
    "    min_samples_split= 2)),\n",
    "    ])\n",
    "\n",
    "cvec_parameters = {\n",
    "   \n",
    "    }\n",
    "    \n",
    "grid_RF1 = GridSearchCV(cvec_pipe, cvec_parameters, cv=5, verbose=1)\n",
    "\n",
    "tfid_pipe = Pipeline([\n",
    "    ('tvec', TfidfVectorizer()),\n",
    "    ('RF', RandomForestClassifier(n_estimators= 'warn',\n",
    "    max_features= 'auto',\n",
    "    min_samples_split= 2)),\n",
    "    ])\n",
    "tvec_parameters = {\n",
    "   \n",
    "    }\n",
    "grid_RF2 = GridSearchCV(tfid_pipe, tvec_parameters, cv=5, verbose=1)"
   ]
  },
  {
   "cell_type": "code",
   "execution_count": 78,
   "metadata": {},
   "outputs": [
    {
     "name": "stderr",
     "output_type": "stream",
     "text": [
      "C:\\ProgramData\\Anaconda3\\lib\\site-packages\\sklearn\\ensemble\\forest.py:245: FutureWarning: The default value of n_estimators will change from 10 in version 0.20 to 100 in 0.22.\n",
      "  \"10 in version 0.20 to 100 in 0.22.\", FutureWarning)\n",
      "C:\\ProgramData\\Anaconda3\\lib\\site-packages\\sklearn\\ensemble\\forest.py:245: FutureWarning: The default value of n_estimators will change from 10 in version 0.20 to 100 in 0.22.\n",
      "  \"10 in version 0.20 to 100 in 0.22.\", FutureWarning)\n",
      "C:\\ProgramData\\Anaconda3\\lib\\site-packages\\sklearn\\ensemble\\forest.py:245: FutureWarning: The default value of n_estimators will change from 10 in version 0.20 to 100 in 0.22.\n",
      "  \"10 in version 0.20 to 100 in 0.22.\", FutureWarning)\n",
      "C:\\ProgramData\\Anaconda3\\lib\\site-packages\\sklearn\\ensemble\\forest.py:245: FutureWarning: The default value of n_estimators will change from 10 in version 0.20 to 100 in 0.22.\n",
      "  \"10 in version 0.20 to 100 in 0.22.\", FutureWarning)\n",
      "C:\\ProgramData\\Anaconda3\\lib\\site-packages\\sklearn\\ensemble\\forest.py:245: FutureWarning: The default value of n_estimators will change from 10 in version 0.20 to 100 in 0.22.\n",
      "  \"10 in version 0.20 to 100 in 0.22.\", FutureWarning)\n",
      "C:\\ProgramData\\Anaconda3\\lib\\site-packages\\sklearn\\ensemble\\forest.py:245: FutureWarning: The default value of n_estimators will change from 10 in version 0.20 to 100 in 0.22.\n",
      "  \"10 in version 0.20 to 100 in 0.22.\", FutureWarning)\n"
     ]
    },
    {
     "data": {
      "text/plain": [
       "{}"
      ]
     },
     "execution_count": 78,
     "metadata": {},
     "output_type": "execute_result"
    }
   ],
   "source": [
    "grid_RF1 = GridSearchCV(cvec_pipe, cvec_parameters, cv=5)\n",
    "grid_RF1.fit(X_train, y_train)\n",
    "grid_RF1.best_score_\n",
    "grid_RF1.best_params_"
   ]
  },
  {
   "cell_type": "code",
   "execution_count": 79,
   "metadata": {},
   "outputs": [
    {
     "name": "stdout",
     "output_type": "stream",
     "text": [
      "RF Train Score: [0 1 1 ... 1 1 0]\n",
      "RF Test Score: [0 1 1 ... 1 1 1]\n",
      "RF Accuracy Score: 0.640625\n"
     ]
    }
   ],
   "source": [
    "print(f'RF Train Score: {grid_RF1.predict(X_train)}')\n",
    "print(f'RF Test Score: {grid_RF1.predict(X_test)}')\n",
    "print(f'RF Accuracy Score: {grid_RF1.score(X_test, y_test)}')"
   ]
  },
  {
   "cell_type": "code",
   "execution_count": null,
   "metadata": {},
   "outputs": [],
   "source": [
    "grid_RF2 = GridSearchCV(cvec_pipe, cvec_parameters, cv=5)\n",
    "grid_RF2.fit(X_train, y_train)\n",
    "grid_RF2.best_score_\n",
    "grid_RF2.best_params_"
   ]
  },
  {
   "cell_type": "code",
   "execution_count": null,
   "metadata": {},
   "outputs": [],
   "source": [
    "print(f'RF Predict Score: {grid_RF2.predict(X_test)}')\n",
    "print(f'RF Accuracy Score: {grid_RF2.score(X_test, y_test)}')"
   ]
  },
  {
   "cell_type": "code",
   "execution_count": 141,
   "metadata": {},
   "outputs": [],
   "source": [
    "X = df_hist_trag['PlayerLine']\n",
    "y = df_hist_trag['Type']"
   ]
  },
  {
   "cell_type": "code",
   "execution_count": 142,
   "metadata": {},
   "outputs": [
    {
     "data": {
      "text/plain": [
       "1    0.612636\n",
       "0    0.387364\n",
       "Name: Type, dtype: float64"
      ]
     },
     "execution_count": 142,
     "metadata": {},
     "output_type": "execute_result"
    }
   ],
   "source": [
    "y.value_counts(normalize=True)"
   ]
  },
  {
   "cell_type": "code",
   "execution_count": 143,
   "metadata": {},
   "outputs": [],
   "source": [
    "# Train/Test Split.\n",
    "X_train, X_test, y_train, y_test = train_test_split(\n",
    "    X,\n",
    "    y,\n",
    "    test_size=0.33,\n",
    "    random_state=42\n",
    ")"
   ]
  },
  {
   "cell_type": "code",
   "execution_count": 84,
   "metadata": {},
   "outputs": [],
   "source": [
    "cvec_pipe = Pipeline([\n",
    "    ('cvec', CountVectorizer()),\n",
    "    ('RF', RandomForestClassifier(n_estimators= 'warn',\n",
    "    max_features= 'auto',\n",
    "    min_samples_split= 2)),\n",
    "    ])\n",
    "\n",
    "cvec_parameters = {\n",
    "    }\n",
    "    \n",
    "grid_RF3 = GridSearchCV(cvec_pipe, cvec_parameters, cv=5, verbose=1)\n",
    "\n",
    "tfid_pipe = Pipeline([\n",
    "    ('tvec', TfidfVectorizer()),\n",
    "    ('RF', RandomForestClassifier(n_estimators= 'warn',\n",
    "    max_features= 'auto',\n",
    "    min_samples_split= 2)),\n",
    "    ])\n",
    "tvec_parameters = {\n",
    "    }\n",
    "grid_RF4 = GridSearchCV(tfid_pipe, tvec_parameters, cv=5, verbose=1)"
   ]
  },
  {
   "cell_type": "code",
   "execution_count": 85,
   "metadata": {},
   "outputs": [
    {
     "name": "stderr",
     "output_type": "stream",
     "text": [
      "C:\\ProgramData\\Anaconda3\\lib\\site-packages\\sklearn\\ensemble\\forest.py:245: FutureWarning: The default value of n_estimators will change from 10 in version 0.20 to 100 in 0.22.\n",
      "  \"10 in version 0.20 to 100 in 0.22.\", FutureWarning)\n",
      "C:\\ProgramData\\Anaconda3\\lib\\site-packages\\sklearn\\ensemble\\forest.py:245: FutureWarning: The default value of n_estimators will change from 10 in version 0.20 to 100 in 0.22.\n",
      "  \"10 in version 0.20 to 100 in 0.22.\", FutureWarning)\n",
      "C:\\ProgramData\\Anaconda3\\lib\\site-packages\\sklearn\\ensemble\\forest.py:245: FutureWarning: The default value of n_estimators will change from 10 in version 0.20 to 100 in 0.22.\n",
      "  \"10 in version 0.20 to 100 in 0.22.\", FutureWarning)\n",
      "C:\\ProgramData\\Anaconda3\\lib\\site-packages\\sklearn\\ensemble\\forest.py:245: FutureWarning: The default value of n_estimators will change from 10 in version 0.20 to 100 in 0.22.\n",
      "  \"10 in version 0.20 to 100 in 0.22.\", FutureWarning)\n",
      "C:\\ProgramData\\Anaconda3\\lib\\site-packages\\sklearn\\ensemble\\forest.py:245: FutureWarning: The default value of n_estimators will change from 10 in version 0.20 to 100 in 0.22.\n",
      "  \"10 in version 0.20 to 100 in 0.22.\", FutureWarning)\n",
      "C:\\ProgramData\\Anaconda3\\lib\\site-packages\\sklearn\\ensemble\\forest.py:245: FutureWarning: The default value of n_estimators will change from 10 in version 0.20 to 100 in 0.22.\n",
      "  \"10 in version 0.20 to 100 in 0.22.\", FutureWarning)\n"
     ]
    },
    {
     "data": {
      "text/plain": [
       "{}"
      ]
     },
     "execution_count": 85,
     "metadata": {},
     "output_type": "execute_result"
    }
   ],
   "source": [
    "grid_RF3 = GridSearchCV(cvec_pipe, cvec_parameters, cv=5)\n",
    "grid_RF3.fit(X_train, y_train)\n",
    "grid_RF3.best_score_\n",
    "grid_RF3.best_params_"
   ]
  },
  {
   "cell_type": "code",
   "execution_count": 87,
   "metadata": {},
   "outputs": [
    {
     "name": "stdout",
     "output_type": "stream",
     "text": [
      "RF Predict: [1 1 1 ... 1 0 1]\n",
      "RF Accuracy Score: 0.6393540669856459\n"
     ]
    }
   ],
   "source": [
    "print(f'RF Predict: {grid_RF3.predict(X_test)}')\n",
    "print(f'RF Accuracy Score: {grid_RF3.score(X_test, y_test)}')"
   ]
  },
  {
   "cell_type": "code",
   "execution_count": 88,
   "metadata": {},
   "outputs": [
    {
     "name": "stderr",
     "output_type": "stream",
     "text": [
      "C:\\ProgramData\\Anaconda3\\lib\\site-packages\\sklearn\\ensemble\\forest.py:245: FutureWarning: The default value of n_estimators will change from 10 in version 0.20 to 100 in 0.22.\n",
      "  \"10 in version 0.20 to 100 in 0.22.\", FutureWarning)\n",
      "C:\\ProgramData\\Anaconda3\\lib\\site-packages\\sklearn\\ensemble\\forest.py:245: FutureWarning: The default value of n_estimators will change from 10 in version 0.20 to 100 in 0.22.\n",
      "  \"10 in version 0.20 to 100 in 0.22.\", FutureWarning)\n",
      "C:\\ProgramData\\Anaconda3\\lib\\site-packages\\sklearn\\ensemble\\forest.py:245: FutureWarning: The default value of n_estimators will change from 10 in version 0.20 to 100 in 0.22.\n",
      "  \"10 in version 0.20 to 100 in 0.22.\", FutureWarning)\n",
      "C:\\ProgramData\\Anaconda3\\lib\\site-packages\\sklearn\\ensemble\\forest.py:245: FutureWarning: The default value of n_estimators will change from 10 in version 0.20 to 100 in 0.22.\n",
      "  \"10 in version 0.20 to 100 in 0.22.\", FutureWarning)\n",
      "C:\\ProgramData\\Anaconda3\\lib\\site-packages\\sklearn\\ensemble\\forest.py:245: FutureWarning: The default value of n_estimators will change from 10 in version 0.20 to 100 in 0.22.\n",
      "  \"10 in version 0.20 to 100 in 0.22.\", FutureWarning)\n",
      "C:\\ProgramData\\Anaconda3\\lib\\site-packages\\sklearn\\ensemble\\forest.py:245: FutureWarning: The default value of n_estimators will change from 10 in version 0.20 to 100 in 0.22.\n",
      "  \"10 in version 0.20 to 100 in 0.22.\", FutureWarning)\n"
     ]
    },
    {
     "data": {
      "text/plain": [
       "{}"
      ]
     },
     "execution_count": 88,
     "metadata": {},
     "output_type": "execute_result"
    }
   ],
   "source": [
    "grid_RF4 = GridSearchCV(cvec_pipe, cvec_parameters, cv=5)\n",
    "grid_RF4.fit(X_train, y_train)\n",
    "grid_RF4.best_score_\n",
    "grid_RF4.best_params_"
   ]
  },
  {
   "cell_type": "code",
   "execution_count": 90,
   "metadata": {},
   "outputs": [
    {
     "name": "stdout",
     "output_type": "stream",
     "text": [
      "RF Predict: [0 1 1 ... 1 1 1]\n",
      "RF Accuracy Score: 0.6406997607655502\n"
     ]
    }
   ],
   "source": [
    "print(f'RF Predict: {grid_RF4.predict(X_test)}')\n",
    "print(f'RF Accuracy Score: {grid_RF4.score(X_test, y_test)}')"
   ]
  }
 ],
 "metadata": {
  "kernelspec": {
   "display_name": "Python 3",
   "language": "python",
   "name": "python3"
  },
  "language_info": {
   "codemirror_mode": {
    "name": "ipython",
    "version": 3
   },
   "file_extension": ".py",
   "mimetype": "text/x-python",
   "name": "python",
   "nbconvert_exporter": "python",
   "pygments_lexer": "ipython3",
   "version": "3.7.4"
  }
 },
 "nbformat": 4,
 "nbformat_minor": 2
}
